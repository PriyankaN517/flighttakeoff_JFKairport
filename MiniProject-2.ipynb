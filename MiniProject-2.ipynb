{
 "cells": [
  {
   "cell_type": "markdown",
   "id": "7244f591",
   "metadata": {},
   "source": [
    "# Mini_Project-2"
   ]
  },
  {
   "cell_type": "markdown",
   "id": "3da840ac",
   "metadata": {},
   "source": [
    "## This notebook is for a task on flight take off data - JFK airport"
   ]
  },
  {
   "cell_type": "markdown",
   "id": "826b2985",
   "metadata": {},
   "source": [
    "# Content:\n"
   ]
  },
  {
   "cell_type": "markdown",
   "id": "866c9989",
   "metadata": {},
   "source": [
    "This data was scraped under a Academic Paper under Review by IEEE transportation\n",
    "\n",
    "This data file contains data about flights leaving from JKF ariport between Nov 2019-Dec-2020. Taxi-Out prediction has been an important concept as it helps in calculating Runway time and directly impact the cost of the flight.\n",
    "\n",
    "# Problem Statement: \n",
    "\n",
    "Flight delays have a dramatic impact on the movement of taxiing aircraft between gates and runways. Taxi-out time is defined as the time between the actual pushback and wheels-off. Taxi-out time is difficult to predict in hub airports at peak hours. Consequently very long taxiing times and airport surface congestion would be suffered. The long-time taxiing aircraft may cause a blunder when dealing with the pushback and take-off slots, which not only destroys the balance of the arrival and departure process, but also increases fuel consumption and emissions. Moreover, the increasing workload of controllers is unfortunate. The delay is cumulative, but it is both stochastic and controllable in the taxi process. The stochastic characteristic is reflected in uncertainty events, such as shifts in the weather environment, the interaction of the departure/arrival aircraft surface movement, and the human factor. Controllable behaviours such as delays can be adjusted by alternating routes and taxiing speed and even by holding at gate \n",
    "\n",
    "Better prediction of taxi-out time allows all stakeholders to arrange the future activities in airport operation. Efficient taxi-out prediction methods are effective approaches when the aim is to eliminate delays and improve the utilization of resources. Once taxi-out time is predicted in advance, operators gain a flexibility that allows them to adjust the schedule, gates assignment, and pushback plan. This achieves the smoother operation of an airport and reduces its surface congestion and fuel-burn costs. The aim of this notebook is to develop the approaches that are more accurate predictors of the taxi-out time of departing aircraft\n",
    "\n",
    "# Selected Model: \n",
    "Supervised Machine Learning is being used by many organizations to identify and solve business problems. The two types of algorithms commonly used are Classification and Regression.\n",
    "\n",
    "In this notebook, the focus will be on Regression. Regression models are models which predict a continuous outcome like predicting taxi layout delay and we will implement the following linear regression models using scikit-learn:\n",
    "\n",
    "- Linear Regression\n",
    "- Ridge Regression\n",
    "- Lasso Regression\n",
    "\n",
    "# Evaluation Metrics:\n",
    "\n",
    "We will evaluate the performance of the model using two metrics - R-squared value and Root Mean Squared Error (RMSE).\n",
    "\n",
    "R-squared values range from 0 to 1 and are commonly stated as percentages. It is a statistical measure that represents the proportion of the variance for a target variable that is explained by the independent variables. The other commonly used metric for regression problems is RMSE, that measures the average magnitude of the residuals or error. We will be using both these metrics to evaluate the model performance.\n",
    "\n",
    "Ideally, lower RMSE and higher R-squared values are indicative of a good model\n",
    "\n",
    "# Steps:\n",
    "In this notebook, we will follow the following steps:\n",
    "\n",
    "Step 1 - Loading the required libraries and modules.\n",
    "\n",
    "Step 2 - Loading the data and performing basic data checks.\n",
    "\n",
    "Step 3 - Performing some exploratory data analysis\n",
    "\n",
    "Step 4 - Creating dataframes for predictor and target variables.\n",
    "\n",
    "Step 5 - Creating the training and test datasets by splitting.\n",
    "\n",
    "Step 6 - Build, Predict and Evaluate the regression model. We will be repeating Step 5 for the various regression models.\n",
    "\n",
    "Step 7 - Trying some usecases on regression models to test accuracy"
   ]
  },
  {
   "cell_type": "markdown",
   "id": "4ef6f4b2",
   "metadata": {},
   "source": [
    "# Step 1: Import libraries\n",
    "- Import libraries to eliminate writing code from scratch\n"
   ]
  },
  {
   "cell_type": "code",
   "execution_count": 1,
   "id": "a0fa9b93",
   "metadata": {},
   "outputs": [],
   "source": [
    "import numpy as np\n",
    "import pandas as pd\n",
    "import matplotlib.pyplot as plt\n",
    "import seaborn as sns\n",
    "from sklearn.model_selection import train_test_split\n",
    "from sklearn.metrics import r2_score\n",
    "from sklearn.metrics import mean_squared_error\n",
    "from sklearn.linear_model import Ridge\n",
    "from sklearn.linear_model import Lasso\n",
    "from sklearn.linear_model import LassoCV\n",
    "from sklearn.linear_model import RidgeCV\n",
    "from sklearn.linear_model import LinearRegression\n",
    "from sklearn.preprocessing import LabelEncoder\n",
    "from sklearn.feature_selection import SequentialFeatureSelector\n",
    "\n",
    "\n",
    "\n",
    "\n",
    "%matplotlib inline"
   ]
  },
  {
   "cell_type": "markdown",
   "id": "fe033f23",
   "metadata": {},
   "source": [
    "# Step 2: Read the Data\n",
    "- Read the data\n",
    "- Perform some basic structural cleaning to facilitate the work"
   ]
  },
  {
   "cell_type": "code",
   "execution_count": 2,
   "id": "c9827ff6",
   "metadata": {},
   "outputs": [
    {
     "data": {
      "text/html": [
       "<div>\n",
       "<style scoped>\n",
       "    .dataframe tbody tr th:only-of-type {\n",
       "        vertical-align: middle;\n",
       "    }\n",
       "\n",
       "    .dataframe tbody tr th {\n",
       "        vertical-align: top;\n",
       "    }\n",
       "\n",
       "    .dataframe thead th {\n",
       "        text-align: right;\n",
       "    }\n",
       "</style>\n",
       "<table border=\"1\" class=\"dataframe\">\n",
       "  <thead>\n",
       "    <tr style=\"text-align: right;\">\n",
       "      <th></th>\n",
       "      <th>MONTH</th>\n",
       "      <th>DAY_OF_MONTH</th>\n",
       "      <th>DAY_OF_WEEK</th>\n",
       "      <th>OP_UNIQUE_CARRIER</th>\n",
       "      <th>TAIL_NUM</th>\n",
       "      <th>DEST</th>\n",
       "      <th>DEP_DELAY</th>\n",
       "      <th>CRS_ELAPSED_TIME</th>\n",
       "      <th>DISTANCE</th>\n",
       "      <th>CRS_DEP_M</th>\n",
       "      <th>...</th>\n",
       "      <th>Dew Point</th>\n",
       "      <th>Humidity</th>\n",
       "      <th>Wind</th>\n",
       "      <th>Wind Speed</th>\n",
       "      <th>Wind Gust</th>\n",
       "      <th>Pressure</th>\n",
       "      <th>Condition</th>\n",
       "      <th>sch_dep</th>\n",
       "      <th>sch_arr</th>\n",
       "      <th>TAXI_OUT</th>\n",
       "    </tr>\n",
       "  </thead>\n",
       "  <tbody>\n",
       "    <tr>\n",
       "      <th>0</th>\n",
       "      <td>11</td>\n",
       "      <td>1</td>\n",
       "      <td>5</td>\n",
       "      <td>B6</td>\n",
       "      <td>N828JB</td>\n",
       "      <td>CHS</td>\n",
       "      <td>-1</td>\n",
       "      <td>124</td>\n",
       "      <td>636</td>\n",
       "      <td>324</td>\n",
       "      <td>...</td>\n",
       "      <td>34</td>\n",
       "      <td>58</td>\n",
       "      <td>W</td>\n",
       "      <td>25</td>\n",
       "      <td>38</td>\n",
       "      <td>29.86</td>\n",
       "      <td>Fair / Windy</td>\n",
       "      <td>9</td>\n",
       "      <td>17</td>\n",
       "      <td>14</td>\n",
       "    </tr>\n",
       "    <tr>\n",
       "      <th>1</th>\n",
       "      <td>11</td>\n",
       "      <td>1</td>\n",
       "      <td>5</td>\n",
       "      <td>B6</td>\n",
       "      <td>N992JB</td>\n",
       "      <td>LAX</td>\n",
       "      <td>-7</td>\n",
       "      <td>371</td>\n",
       "      <td>2475</td>\n",
       "      <td>340</td>\n",
       "      <td>...</td>\n",
       "      <td>34</td>\n",
       "      <td>58</td>\n",
       "      <td>W</td>\n",
       "      <td>25</td>\n",
       "      <td>38</td>\n",
       "      <td>29.86</td>\n",
       "      <td>Fair / Windy</td>\n",
       "      <td>9</td>\n",
       "      <td>17</td>\n",
       "      <td>15</td>\n",
       "    </tr>\n",
       "    <tr>\n",
       "      <th>2</th>\n",
       "      <td>11</td>\n",
       "      <td>1</td>\n",
       "      <td>5</td>\n",
       "      <td>B6</td>\n",
       "      <td>N959JB</td>\n",
       "      <td>FLL</td>\n",
       "      <td>40</td>\n",
       "      <td>181</td>\n",
       "      <td>1069</td>\n",
       "      <td>301</td>\n",
       "      <td>...</td>\n",
       "      <td>34</td>\n",
       "      <td>58</td>\n",
       "      <td>W</td>\n",
       "      <td>25</td>\n",
       "      <td>38</td>\n",
       "      <td>29.86</td>\n",
       "      <td>Fair / Windy</td>\n",
       "      <td>9</td>\n",
       "      <td>17</td>\n",
       "      <td>22</td>\n",
       "    </tr>\n",
       "    <tr>\n",
       "      <th>3</th>\n",
       "      <td>11</td>\n",
       "      <td>1</td>\n",
       "      <td>5</td>\n",
       "      <td>B6</td>\n",
       "      <td>N999JQ</td>\n",
       "      <td>MCO</td>\n",
       "      <td>-2</td>\n",
       "      <td>168</td>\n",
       "      <td>944</td>\n",
       "      <td>345</td>\n",
       "      <td>...</td>\n",
       "      <td>34</td>\n",
       "      <td>58</td>\n",
       "      <td>W</td>\n",
       "      <td>25</td>\n",
       "      <td>38</td>\n",
       "      <td>29.86</td>\n",
       "      <td>Fair / Windy</td>\n",
       "      <td>9</td>\n",
       "      <td>17</td>\n",
       "      <td>12</td>\n",
       "    </tr>\n",
       "    <tr>\n",
       "      <th>4</th>\n",
       "      <td>11</td>\n",
       "      <td>1</td>\n",
       "      <td>5</td>\n",
       "      <td>DL</td>\n",
       "      <td>N880DN</td>\n",
       "      <td>ATL</td>\n",
       "      <td>-4</td>\n",
       "      <td>139</td>\n",
       "      <td>760</td>\n",
       "      <td>360</td>\n",
       "      <td>...</td>\n",
       "      <td>32</td>\n",
       "      <td>58</td>\n",
       "      <td>W</td>\n",
       "      <td>24</td>\n",
       "      <td>35</td>\n",
       "      <td>29.91</td>\n",
       "      <td>Fair / Windy</td>\n",
       "      <td>9</td>\n",
       "      <td>17</td>\n",
       "      <td>13</td>\n",
       "    </tr>\n",
       "    <tr>\n",
       "      <th>...</th>\n",
       "      <td>...</td>\n",
       "      <td>...</td>\n",
       "      <td>...</td>\n",
       "      <td>...</td>\n",
       "      <td>...</td>\n",
       "      <td>...</td>\n",
       "      <td>...</td>\n",
       "      <td>...</td>\n",
       "      <td>...</td>\n",
       "      <td>...</td>\n",
       "      <td>...</td>\n",
       "      <td>...</td>\n",
       "      <td>...</td>\n",
       "      <td>...</td>\n",
       "      <td>...</td>\n",
       "      <td>...</td>\n",
       "      <td>...</td>\n",
       "      <td>...</td>\n",
       "      <td>...</td>\n",
       "      <td>...</td>\n",
       "      <td>...</td>\n",
       "    </tr>\n",
       "    <tr>\n",
       "      <th>28815</th>\n",
       "      <td>1</td>\n",
       "      <td>31</td>\n",
       "      <td>5</td>\n",
       "      <td>B6</td>\n",
       "      <td>N216JB</td>\n",
       "      <td>ORH</td>\n",
       "      <td>2</td>\n",
       "      <td>57</td>\n",
       "      <td>150</td>\n",
       "      <td>1370</td>\n",
       "      <td>...</td>\n",
       "      <td>38</td>\n",
       "      <td>96</td>\n",
       "      <td>N</td>\n",
       "      <td>6</td>\n",
       "      <td>0</td>\n",
       "      <td>30.18</td>\n",
       "      <td>Cloudy</td>\n",
       "      <td>20</td>\n",
       "      <td>32</td>\n",
       "      <td>19</td>\n",
       "    </tr>\n",
       "    <tr>\n",
       "      <th>28816</th>\n",
       "      <td>1</td>\n",
       "      <td>31</td>\n",
       "      <td>5</td>\n",
       "      <td>AA</td>\n",
       "      <td>N104NN</td>\n",
       "      <td>BOS</td>\n",
       "      <td>2</td>\n",
       "      <td>75</td>\n",
       "      <td>187</td>\n",
       "      <td>1390</td>\n",
       "      <td>...</td>\n",
       "      <td>38</td>\n",
       "      <td>96</td>\n",
       "      <td>N</td>\n",
       "      <td>6</td>\n",
       "      <td>0</td>\n",
       "      <td>30.18</td>\n",
       "      <td>Cloudy</td>\n",
       "      <td>19</td>\n",
       "      <td>23</td>\n",
       "      <td>22</td>\n",
       "    </tr>\n",
       "    <tr>\n",
       "      <th>28817</th>\n",
       "      <td>1</td>\n",
       "      <td>31</td>\n",
       "      <td>5</td>\n",
       "      <td>AS</td>\n",
       "      <td>N581AS</td>\n",
       "      <td>SEA</td>\n",
       "      <td>283</td>\n",
       "      <td>392</td>\n",
       "      <td>2422</td>\n",
       "      <td>1125</td>\n",
       "      <td>...</td>\n",
       "      <td>38</td>\n",
       "      <td>96</td>\n",
       "      <td>N</td>\n",
       "      <td>6</td>\n",
       "      <td>0</td>\n",
       "      <td>30.18</td>\n",
       "      <td>Cloudy</td>\n",
       "      <td>19</td>\n",
       "      <td>23</td>\n",
       "      <td>21</td>\n",
       "    </tr>\n",
       "    <tr>\n",
       "      <th>28818</th>\n",
       "      <td>1</td>\n",
       "      <td>31</td>\n",
       "      <td>5</td>\n",
       "      <td>B6</td>\n",
       "      <td>N957JB</td>\n",
       "      <td>SJU</td>\n",
       "      <td>5</td>\n",
       "      <td>224</td>\n",
       "      <td>1598</td>\n",
       "      <td>1417</td>\n",
       "      <td>...</td>\n",
       "      <td>38</td>\n",
       "      <td>96</td>\n",
       "      <td>N</td>\n",
       "      <td>6</td>\n",
       "      <td>0</td>\n",
       "      <td>30.18</td>\n",
       "      <td>Cloudy</td>\n",
       "      <td>19</td>\n",
       "      <td>23</td>\n",
       "      <td>13</td>\n",
       "    </tr>\n",
       "    <tr>\n",
       "      <th>28819</th>\n",
       "      <td>1</td>\n",
       "      <td>31</td>\n",
       "      <td>5</td>\n",
       "      <td>B6</td>\n",
       "      <td>N958JB</td>\n",
       "      <td>BQN</td>\n",
       "      <td>-1</td>\n",
       "      <td>225</td>\n",
       "      <td>1576</td>\n",
       "      <td>1439</td>\n",
       "      <td>...</td>\n",
       "      <td>38</td>\n",
       "      <td>96</td>\n",
       "      <td>N</td>\n",
       "      <td>6</td>\n",
       "      <td>0</td>\n",
       "      <td>30.18</td>\n",
       "      <td>Cloudy</td>\n",
       "      <td>19</td>\n",
       "      <td>23</td>\n",
       "      <td>15</td>\n",
       "    </tr>\n",
       "  </tbody>\n",
       "</table>\n",
       "<p>28820 rows × 23 columns</p>\n",
       "</div>"
      ],
      "text/plain": [
       "       MONTH  DAY_OF_MONTH  DAY_OF_WEEK OP_UNIQUE_CARRIER TAIL_NUM DEST  \\\n",
       "0         11             1            5                B6   N828JB  CHS   \n",
       "1         11             1            5                B6   N992JB  LAX   \n",
       "2         11             1            5                B6   N959JB  FLL   \n",
       "3         11             1            5                B6   N999JQ  MCO   \n",
       "4         11             1            5                DL   N880DN  ATL   \n",
       "...      ...           ...          ...               ...      ...  ...   \n",
       "28815      1            31            5                B6   N216JB  ORH   \n",
       "28816      1            31            5                AA   N104NN  BOS   \n",
       "28817      1            31            5                AS   N581AS  SEA   \n",
       "28818      1            31            5                B6   N957JB  SJU   \n",
       "28819      1            31            5                B6   N958JB  BQN   \n",
       "\n",
       "       DEP_DELAY  CRS_ELAPSED_TIME  DISTANCE  CRS_DEP_M  ...  Dew Point  \\\n",
       "0             -1               124       636        324  ...         34   \n",
       "1             -7               371      2475        340  ...         34   \n",
       "2             40               181      1069        301  ...         34   \n",
       "3             -2               168       944        345  ...         34   \n",
       "4             -4               139       760        360  ...         32   \n",
       "...          ...               ...       ...        ...  ...        ...   \n",
       "28815          2                57       150       1370  ...         38   \n",
       "28816          2                75       187       1390  ...         38   \n",
       "28817        283               392      2422       1125  ...         38   \n",
       "28818          5               224      1598       1417  ...         38   \n",
       "28819         -1               225      1576       1439  ...         38   \n",
       "\n",
       "       Humidity  Wind Wind Speed  Wind Gust Pressure     Condition  sch_dep  \\\n",
       "0            58     W         25         38    29.86  Fair / Windy        9   \n",
       "1            58     W         25         38    29.86  Fair / Windy        9   \n",
       "2            58     W         25         38    29.86  Fair / Windy        9   \n",
       "3            58     W         25         38    29.86  Fair / Windy        9   \n",
       "4            58     W         24         35    29.91  Fair / Windy        9   \n",
       "...         ...   ...        ...        ...      ...           ...      ...   \n",
       "28815        96     N          6          0    30.18        Cloudy       20   \n",
       "28816        96     N          6          0    30.18        Cloudy       19   \n",
       "28817        96     N          6          0    30.18        Cloudy       19   \n",
       "28818        96     N          6          0    30.18        Cloudy       19   \n",
       "28819        96     N          6          0    30.18        Cloudy       19   \n",
       "\n",
       "       sch_arr TAXI_OUT  \n",
       "0           17       14  \n",
       "1           17       15  \n",
       "2           17       22  \n",
       "3           17       12  \n",
       "4           17       13  \n",
       "...        ...      ...  \n",
       "28815       32       19  \n",
       "28816       23       22  \n",
       "28817       23       21  \n",
       "28818       23       13  \n",
       "28819       23       15  \n",
       "\n",
       "[28820 rows x 23 columns]"
      ]
     },
     "execution_count": 2,
     "metadata": {},
     "output_type": "execute_result"
    }
   ],
   "source": [
    "# Read data in pandas\n",
    "df = pd.read_csv('C:/Users/Subbu/Documents/Github2021/DSgithub/labs/Data/M1_final.csv')\n",
    "\n",
    "\n",
    "df"
   ]
  },
  {
   "cell_type": "markdown",
   "id": "75e8de75",
   "metadata": {},
   "source": [
    "# Step 3:EDA\n",
    "\n"
   ]
  },
  {
   "cell_type": "markdown",
   "id": "060277d8",
   "metadata": {},
   "source": [
    "To get concise summary about datset we can use `info()` function:"
   ]
  },
  {
   "cell_type": "code",
   "execution_count": 3,
   "id": "e2132c0a",
   "metadata": {},
   "outputs": [
    {
     "name": "stdout",
     "output_type": "stream",
     "text": [
      "<class 'pandas.core.frame.DataFrame'>\n",
      "RangeIndex: 28820 entries, 0 to 28819\n",
      "Data columns (total 23 columns):\n",
      " #   Column             Non-Null Count  Dtype  \n",
      "---  ------             --------------  -----  \n",
      " 0   MONTH              28820 non-null  int64  \n",
      " 1   DAY_OF_MONTH       28820 non-null  int64  \n",
      " 2   DAY_OF_WEEK        28820 non-null  int64  \n",
      " 3   OP_UNIQUE_CARRIER  28820 non-null  object \n",
      " 4   TAIL_NUM           28820 non-null  object \n",
      " 5   DEST               28820 non-null  object \n",
      " 6   DEP_DELAY          28820 non-null  int64  \n",
      " 7   CRS_ELAPSED_TIME   28820 non-null  int64  \n",
      " 8   DISTANCE           28820 non-null  int64  \n",
      " 9   CRS_DEP_M          28820 non-null  int64  \n",
      " 10  DEP_TIME_M         28820 non-null  int64  \n",
      " 11  CRS_ARR_M          28820 non-null  int64  \n",
      " 12  Temperature        28820 non-null  int64  \n",
      " 13  Dew Point          28820 non-null  object \n",
      " 14  Humidity           28820 non-null  int64  \n",
      " 15  Wind               28818 non-null  object \n",
      " 16  Wind Speed         28820 non-null  int64  \n",
      " 17  Wind Gust          28820 non-null  int64  \n",
      " 18  Pressure           28820 non-null  float64\n",
      " 19  Condition          28820 non-null  object \n",
      " 20  sch_dep            28820 non-null  int64  \n",
      " 21  sch_arr            28820 non-null  int64  \n",
      " 22  TAXI_OUT           28820 non-null  int64  \n",
      "dtypes: float64(1), int64(16), object(6)\n",
      "memory usage: 5.1+ MB\n"
     ]
    }
   ],
   "source": [
    "df.info()"
   ]
  },
  {
   "cell_type": "markdown",
   "id": "f3d7e359",
   "metadata": {},
   "source": [
    "Checking number of null values present in dataset:"
   ]
  },
  {
   "cell_type": "code",
   "execution_count": 4,
   "id": "b8bd744c",
   "metadata": {},
   "outputs": [
    {
     "data": {
      "text/plain": [
       "MONTH                0\n",
       "DAY_OF_MONTH         0\n",
       "DAY_OF_WEEK          0\n",
       "OP_UNIQUE_CARRIER    0\n",
       "TAIL_NUM             0\n",
       "DEST                 0\n",
       "DEP_DELAY            0\n",
       "CRS_ELAPSED_TIME     0\n",
       "DISTANCE             0\n",
       "CRS_DEP_M            0\n",
       "DEP_TIME_M           0\n",
       "CRS_ARR_M            0\n",
       "Temperature          0\n",
       "Dew Point            0\n",
       "Humidity             0\n",
       "Wind                 2\n",
       "Wind Speed           0\n",
       "Wind Gust            0\n",
       "Pressure             0\n",
       "Condition            0\n",
       "sch_dep              0\n",
       "sch_arr              0\n",
       "TAXI_OUT             0\n",
       "dtype: int64"
      ]
     },
     "execution_count": 4,
     "metadata": {},
     "output_type": "execute_result"
    }
   ],
   "source": [
    "df.isnull().sum()"
   ]
  },
  {
   "cell_type": "code",
   "execution_count": 5,
   "id": "83b321be",
   "metadata": {},
   "outputs": [
    {
     "data": {
      "text/html": [
       "<div>\n",
       "<style scoped>\n",
       "    .dataframe tbody tr th:only-of-type {\n",
       "        vertical-align: middle;\n",
       "    }\n",
       "\n",
       "    .dataframe tbody tr th {\n",
       "        vertical-align: top;\n",
       "    }\n",
       "\n",
       "    .dataframe thead th {\n",
       "        text-align: right;\n",
       "    }\n",
       "</style>\n",
       "<table border=\"1\" class=\"dataframe\">\n",
       "  <thead>\n",
       "    <tr style=\"text-align: right;\">\n",
       "      <th></th>\n",
       "      <th>index</th>\n",
       "      <th>count</th>\n",
       "    </tr>\n",
       "  </thead>\n",
       "  <tbody>\n",
       "    <tr>\n",
       "      <th>0</th>\n",
       "      <td>16</td>\n",
       "      <td>2008</td>\n",
       "    </tr>\n",
       "    <tr>\n",
       "      <th>1</th>\n",
       "      <td>17</td>\n",
       "      <td>1978</td>\n",
       "    </tr>\n",
       "    <tr>\n",
       "      <th>2</th>\n",
       "      <td>15</td>\n",
       "      <td>1911</td>\n",
       "    </tr>\n",
       "    <tr>\n",
       "      <th>3</th>\n",
       "      <td>18</td>\n",
       "      <td>1893</td>\n",
       "    </tr>\n",
       "    <tr>\n",
       "      <th>4</th>\n",
       "      <td>19</td>\n",
       "      <td>1748</td>\n",
       "    </tr>\n",
       "    <tr>\n",
       "      <th>5</th>\n",
       "      <td>20</td>\n",
       "      <td>1676</td>\n",
       "    </tr>\n",
       "    <tr>\n",
       "      <th>6</th>\n",
       "      <td>14</td>\n",
       "      <td>1626</td>\n",
       "    </tr>\n",
       "    <tr>\n",
       "      <th>7</th>\n",
       "      <td>21</td>\n",
       "      <td>1505</td>\n",
       "    </tr>\n",
       "    <tr>\n",
       "      <th>8</th>\n",
       "      <td>13</td>\n",
       "      <td>1354</td>\n",
       "    </tr>\n",
       "    <tr>\n",
       "      <th>9</th>\n",
       "      <td>22</td>\n",
       "      <td>1352</td>\n",
       "    </tr>\n",
       "    <tr>\n",
       "      <th>10</th>\n",
       "      <td>23</td>\n",
       "      <td>1204</td>\n",
       "    </tr>\n",
       "    <tr>\n",
       "      <th>11</th>\n",
       "      <td>24</td>\n",
       "      <td>1109</td>\n",
       "    </tr>\n",
       "    <tr>\n",
       "      <th>12</th>\n",
       "      <td>25</td>\n",
       "      <td>916</td>\n",
       "    </tr>\n",
       "    <tr>\n",
       "      <th>13</th>\n",
       "      <td>12</td>\n",
       "      <td>911</td>\n",
       "    </tr>\n",
       "    <tr>\n",
       "      <th>14</th>\n",
       "      <td>26</td>\n",
       "      <td>875</td>\n",
       "    </tr>\n",
       "    <tr>\n",
       "      <th>15</th>\n",
       "      <td>27</td>\n",
       "      <td>808</td>\n",
       "    </tr>\n",
       "    <tr>\n",
       "      <th>16</th>\n",
       "      <td>28</td>\n",
       "      <td>695</td>\n",
       "    </tr>\n",
       "    <tr>\n",
       "      <th>17</th>\n",
       "      <td>29</td>\n",
       "      <td>620</td>\n",
       "    </tr>\n",
       "    <tr>\n",
       "      <th>18</th>\n",
       "      <td>11</td>\n",
       "      <td>581</td>\n",
       "    </tr>\n",
       "    <tr>\n",
       "      <th>19</th>\n",
       "      <td>30</td>\n",
       "      <td>497</td>\n",
       "    </tr>\n",
       "    <tr>\n",
       "      <th>20</th>\n",
       "      <td>31</td>\n",
       "      <td>495</td>\n",
       "    </tr>\n",
       "    <tr>\n",
       "      <th>21</th>\n",
       "      <td>32</td>\n",
       "      <td>400</td>\n",
       "    </tr>\n",
       "    <tr>\n",
       "      <th>22</th>\n",
       "      <td>33</td>\n",
       "      <td>378</td>\n",
       "    </tr>\n",
       "    <tr>\n",
       "      <th>23</th>\n",
       "      <td>34</td>\n",
       "      <td>347</td>\n",
       "    </tr>\n",
       "    <tr>\n",
       "      <th>24</th>\n",
       "      <td>35</td>\n",
       "      <td>317</td>\n",
       "    </tr>\n",
       "    <tr>\n",
       "      <th>25</th>\n",
       "      <td>10</td>\n",
       "      <td>302</td>\n",
       "    </tr>\n",
       "    <tr>\n",
       "      <th>26</th>\n",
       "      <td>36</td>\n",
       "      <td>270</td>\n",
       "    </tr>\n",
       "    <tr>\n",
       "      <th>27</th>\n",
       "      <td>37</td>\n",
       "      <td>216</td>\n",
       "    </tr>\n",
       "    <tr>\n",
       "      <th>28</th>\n",
       "      <td>38</td>\n",
       "      <td>182</td>\n",
       "    </tr>\n",
       "    <tr>\n",
       "      <th>29</th>\n",
       "      <td>39</td>\n",
       "      <td>182</td>\n",
       "    </tr>\n",
       "    <tr>\n",
       "      <th>30</th>\n",
       "      <td>40</td>\n",
       "      <td>176</td>\n",
       "    </tr>\n",
       "    <tr>\n",
       "      <th>31</th>\n",
       "      <td>41</td>\n",
       "      <td>154</td>\n",
       "    </tr>\n",
       "    <tr>\n",
       "      <th>32</th>\n",
       "      <td>9</td>\n",
       "      <td>91</td>\n",
       "    </tr>\n",
       "    <tr>\n",
       "      <th>33</th>\n",
       "      <td>8</td>\n",
       "      <td>28</td>\n",
       "    </tr>\n",
       "    <tr>\n",
       "      <th>34</th>\n",
       "      <td>7</td>\n",
       "      <td>13</td>\n",
       "    </tr>\n",
       "    <tr>\n",
       "      <th>35</th>\n",
       "      <td>6</td>\n",
       "      <td>1</td>\n",
       "    </tr>\n",
       "    <tr>\n",
       "      <th>36</th>\n",
       "      <td>5</td>\n",
       "      <td>1</td>\n",
       "    </tr>\n",
       "  </tbody>\n",
       "</table>\n",
       "</div>"
      ],
      "text/plain": [
       "    index  count\n",
       "0      16   2008\n",
       "1      17   1978\n",
       "2      15   1911\n",
       "3      18   1893\n",
       "4      19   1748\n",
       "5      20   1676\n",
       "6      14   1626\n",
       "7      21   1505\n",
       "8      13   1354\n",
       "9      22   1352\n",
       "10     23   1204\n",
       "11     24   1109\n",
       "12     25    916\n",
       "13     12    911\n",
       "14     26    875\n",
       "15     27    808\n",
       "16     28    695\n",
       "17     29    620\n",
       "18     11    581\n",
       "19     30    497\n",
       "20     31    495\n",
       "21     32    400\n",
       "22     33    378\n",
       "23     34    347\n",
       "24     35    317\n",
       "25     10    302\n",
       "26     36    270\n",
       "27     37    216\n",
       "28     38    182\n",
       "29     39    182\n",
       "30     40    176\n",
       "31     41    154\n",
       "32      9     91\n",
       "33      8     28\n",
       "34      7     13\n",
       "35      6      1\n",
       "36      5      1"
      ]
     },
     "execution_count": 5,
     "metadata": {},
     "output_type": "execute_result"
    }
   ],
   "source": [
    "df.TAXI_OUT.value_counts().reset_index(name = 'count')"
   ]
  },
  {
   "cell_type": "markdown",
   "id": "4528663c",
   "metadata": {},
   "source": [
    "Number of features in dataset:"
   ]
  },
  {
   "cell_type": "code",
   "execution_count": 6,
   "id": "6c0e25b1",
   "metadata": {},
   "outputs": [
    {
     "data": {
      "text/plain": [
       "Index(['MONTH', 'DAY_OF_MONTH', 'DAY_OF_WEEK', 'OP_UNIQUE_CARRIER', 'TAIL_NUM',\n",
       "       'DEST', 'DEP_DELAY', 'CRS_ELAPSED_TIME', 'DISTANCE', 'CRS_DEP_M',\n",
       "       'DEP_TIME_M', 'CRS_ARR_M', 'Temperature', 'Dew Point', 'Humidity',\n",
       "       'Wind', 'Wind Speed', 'Wind Gust', 'Pressure', 'Condition', 'sch_dep',\n",
       "       'sch_arr', 'TAXI_OUT'],\n",
       "      dtype='object')"
      ]
     },
     "execution_count": 6,
     "metadata": {},
     "output_type": "execute_result"
    }
   ],
   "source": [
    "df.columns"
   ]
  },
  {
   "cell_type": "markdown",
   "id": "9553597c",
   "metadata": {},
   "source": [
    "To get statistical details about dataset, we can use `describe()` method:"
   ]
  },
  {
   "cell_type": "code",
   "execution_count": 7,
   "id": "9545a757",
   "metadata": {},
   "outputs": [
    {
     "data": {
      "text/html": [
       "<div>\n",
       "<style scoped>\n",
       "    .dataframe tbody tr th:only-of-type {\n",
       "        vertical-align: middle;\n",
       "    }\n",
       "\n",
       "    .dataframe tbody tr th {\n",
       "        vertical-align: top;\n",
       "    }\n",
       "\n",
       "    .dataframe thead th {\n",
       "        text-align: right;\n",
       "    }\n",
       "</style>\n",
       "<table border=\"1\" class=\"dataframe\">\n",
       "  <thead>\n",
       "    <tr style=\"text-align: right;\">\n",
       "      <th></th>\n",
       "      <th>MONTH</th>\n",
       "      <th>DAY_OF_MONTH</th>\n",
       "      <th>DAY_OF_WEEK</th>\n",
       "      <th>DEP_DELAY</th>\n",
       "      <th>CRS_ELAPSED_TIME</th>\n",
       "      <th>DISTANCE</th>\n",
       "      <th>CRS_DEP_M</th>\n",
       "      <th>DEP_TIME_M</th>\n",
       "      <th>CRS_ARR_M</th>\n",
       "      <th>Temperature</th>\n",
       "      <th>Humidity</th>\n",
       "      <th>Wind Speed</th>\n",
       "      <th>Wind Gust</th>\n",
       "      <th>Pressure</th>\n",
       "      <th>sch_dep</th>\n",
       "      <th>sch_arr</th>\n",
       "      <th>TAXI_OUT</th>\n",
       "    </tr>\n",
       "  </thead>\n",
       "  <tbody>\n",
       "    <tr>\n",
       "      <th>count</th>\n",
       "      <td>28820.000000</td>\n",
       "      <td>28820.000000</td>\n",
       "      <td>28820.000000</td>\n",
       "      <td>28820.000000</td>\n",
       "      <td>28820.000000</td>\n",
       "      <td>28820.000000</td>\n",
       "      <td>28820.000000</td>\n",
       "      <td>28820.000000</td>\n",
       "      <td>28820.000000</td>\n",
       "      <td>28820.000000</td>\n",
       "      <td>28820.000000</td>\n",
       "      <td>28820.000000</td>\n",
       "      <td>28820.000000</td>\n",
       "      <td>28820.000000</td>\n",
       "      <td>28820.000000</td>\n",
       "      <td>28820.000000</td>\n",
       "      <td>28820.000000</td>\n",
       "    </tr>\n",
       "    <tr>\n",
       "      <th>mean</th>\n",
       "      <td>7.894240</td>\n",
       "      <td>16.021096</td>\n",
       "      <td>4.008952</td>\n",
       "      <td>6.374983</td>\n",
       "      <td>225.288203</td>\n",
       "      <td>1267.746079</td>\n",
       "      <td>831.003851</td>\n",
       "      <td>828.934698</td>\n",
       "      <td>910.874289</td>\n",
       "      <td>41.489833</td>\n",
       "      <td>57.732616</td>\n",
       "      <td>12.367627</td>\n",
       "      <td>5.535323</td>\n",
       "      <td>30.092433</td>\n",
       "      <td>31.091256</td>\n",
       "      <td>28.432130</td>\n",
       "      <td>20.858570</td>\n",
       "    </tr>\n",
       "    <tr>\n",
       "      <th>std</th>\n",
       "      <td>4.991723</td>\n",
       "      <td>8.750179</td>\n",
       "      <td>1.985230</td>\n",
       "      <td>38.735144</td>\n",
       "      <td>119.482417</td>\n",
       "      <td>889.343246</td>\n",
       "      <td>299.398525</td>\n",
       "      <td>305.864103</td>\n",
       "      <td>345.411743</td>\n",
       "      <td>8.043533</td>\n",
       "      <td>23.468676</td>\n",
       "      <td>6.259298</td>\n",
       "      <td>11.886457</td>\n",
       "      <td>0.296160</td>\n",
       "      <td>9.510359</td>\n",
       "      <td>8.263043</td>\n",
       "      <td>6.851915</td>\n",
       "    </tr>\n",
       "    <tr>\n",
       "      <th>min</th>\n",
       "      <td>1.000000</td>\n",
       "      <td>1.000000</td>\n",
       "      <td>1.000000</td>\n",
       "      <td>-22.000000</td>\n",
       "      <td>57.000000</td>\n",
       "      <td>94.000000</td>\n",
       "      <td>301.000000</td>\n",
       "      <td>1.000000</td>\n",
       "      <td>1.000000</td>\n",
       "      <td>17.000000</td>\n",
       "      <td>0.000000</td>\n",
       "      <td>0.000000</td>\n",
       "      <td>0.000000</td>\n",
       "      <td>29.200000</td>\n",
       "      <td>0.000000</td>\n",
       "      <td>0.000000</td>\n",
       "      <td>5.000000</td>\n",
       "    </tr>\n",
       "    <tr>\n",
       "      <th>25%</th>\n",
       "      <td>1.000000</td>\n",
       "      <td>8.000000</td>\n",
       "      <td>2.000000</td>\n",
       "      <td>-6.000000</td>\n",
       "      <td>124.000000</td>\n",
       "      <td>483.000000</td>\n",
       "      <td>545.000000</td>\n",
       "      <td>542.000000</td>\n",
       "      <td>667.000000</td>\n",
       "      <td>36.000000</td>\n",
       "      <td>46.000000</td>\n",
       "      <td>8.000000</td>\n",
       "      <td>0.000000</td>\n",
       "      <td>29.880000</td>\n",
       "      <td>26.000000</td>\n",
       "      <td>21.000000</td>\n",
       "      <td>16.000000</td>\n",
       "    </tr>\n",
       "    <tr>\n",
       "      <th>50%</th>\n",
       "      <td>11.000000</td>\n",
       "      <td>16.000000</td>\n",
       "      <td>4.000000</td>\n",
       "      <td>-3.000000</td>\n",
       "      <td>188.000000</td>\n",
       "      <td>1029.000000</td>\n",
       "      <td>856.000000</td>\n",
       "      <td>854.000000</td>\n",
       "      <td>918.000000</td>\n",
       "      <td>42.000000</td>\n",
       "      <td>59.000000</td>\n",
       "      <td>12.000000</td>\n",
       "      <td>0.000000</td>\n",
       "      <td>30.110000</td>\n",
       "      <td>30.000000</td>\n",
       "      <td>30.000000</td>\n",
       "      <td>19.000000</td>\n",
       "    </tr>\n",
       "    <tr>\n",
       "      <th>75%</th>\n",
       "      <td>12.000000</td>\n",
       "      <td>24.000000</td>\n",
       "      <td>6.000000</td>\n",
       "      <td>2.000000</td>\n",
       "      <td>365.000000</td>\n",
       "      <td>2248.000000</td>\n",
       "      <td>1095.000000</td>\n",
       "      <td>1097.000000</td>\n",
       "      <td>1193.000000</td>\n",
       "      <td>47.000000</td>\n",
       "      <td>74.000000</td>\n",
       "      <td>16.000000</td>\n",
       "      <td>0.000000</td>\n",
       "      <td>30.320000</td>\n",
       "      <td>37.000000</td>\n",
       "      <td>35.000000</td>\n",
       "      <td>25.000000</td>\n",
       "    </tr>\n",
       "    <tr>\n",
       "      <th>max</th>\n",
       "      <td>12.000000</td>\n",
       "      <td>31.000000</td>\n",
       "      <td>7.000000</td>\n",
       "      <td>1276.000000</td>\n",
       "      <td>697.000000</td>\n",
       "      <td>4983.000000</td>\n",
       "      <td>1439.000000</td>\n",
       "      <td>1440.000000</td>\n",
       "      <td>1439.000000</td>\n",
       "      <td>68.000000</td>\n",
       "      <td>97.000000</td>\n",
       "      <td>36.000000</td>\n",
       "      <td>49.000000</td>\n",
       "      <td>30.750000</td>\n",
       "      <td>55.000000</td>\n",
       "      <td>46.000000</td>\n",
       "      <td>41.000000</td>\n",
       "    </tr>\n",
       "  </tbody>\n",
       "</table>\n",
       "</div>"
      ],
      "text/plain": [
       "              MONTH  DAY_OF_MONTH   DAY_OF_WEEK     DEP_DELAY  \\\n",
       "count  28820.000000  28820.000000  28820.000000  28820.000000   \n",
       "mean       7.894240     16.021096      4.008952      6.374983   \n",
       "std        4.991723      8.750179      1.985230     38.735144   \n",
       "min        1.000000      1.000000      1.000000    -22.000000   \n",
       "25%        1.000000      8.000000      2.000000     -6.000000   \n",
       "50%       11.000000     16.000000      4.000000     -3.000000   \n",
       "75%       12.000000     24.000000      6.000000      2.000000   \n",
       "max       12.000000     31.000000      7.000000   1276.000000   \n",
       "\n",
       "       CRS_ELAPSED_TIME      DISTANCE     CRS_DEP_M    DEP_TIME_M  \\\n",
       "count      28820.000000  28820.000000  28820.000000  28820.000000   \n",
       "mean         225.288203   1267.746079    831.003851    828.934698   \n",
       "std          119.482417    889.343246    299.398525    305.864103   \n",
       "min           57.000000     94.000000    301.000000      1.000000   \n",
       "25%          124.000000    483.000000    545.000000    542.000000   \n",
       "50%          188.000000   1029.000000    856.000000    854.000000   \n",
       "75%          365.000000   2248.000000   1095.000000   1097.000000   \n",
       "max          697.000000   4983.000000   1439.000000   1440.000000   \n",
       "\n",
       "          CRS_ARR_M   Temperature      Humidity    Wind Speed     Wind Gust  \\\n",
       "count  28820.000000  28820.000000  28820.000000  28820.000000  28820.000000   \n",
       "mean     910.874289     41.489833     57.732616     12.367627      5.535323   \n",
       "std      345.411743      8.043533     23.468676      6.259298     11.886457   \n",
       "min        1.000000     17.000000      0.000000      0.000000      0.000000   \n",
       "25%      667.000000     36.000000     46.000000      8.000000      0.000000   \n",
       "50%      918.000000     42.000000     59.000000     12.000000      0.000000   \n",
       "75%     1193.000000     47.000000     74.000000     16.000000      0.000000   \n",
       "max     1439.000000     68.000000     97.000000     36.000000     49.000000   \n",
       "\n",
       "           Pressure       sch_dep       sch_arr      TAXI_OUT  \n",
       "count  28820.000000  28820.000000  28820.000000  28820.000000  \n",
       "mean      30.092433     31.091256     28.432130     20.858570  \n",
       "std        0.296160      9.510359      8.263043      6.851915  \n",
       "min       29.200000      0.000000      0.000000      5.000000  \n",
       "25%       29.880000     26.000000     21.000000     16.000000  \n",
       "50%       30.110000     30.000000     30.000000     19.000000  \n",
       "75%       30.320000     37.000000     35.000000     25.000000  \n",
       "max       30.750000     55.000000     46.000000     41.000000  "
      ]
     },
     "execution_count": 7,
     "metadata": {},
     "output_type": "execute_result"
    }
   ],
   "source": [
    "df.describe()"
   ]
  },
  {
   "cell_type": "markdown",
   "id": "4a3699d2",
   "metadata": {},
   "source": [
    "Find correlation between features"
   ]
  },
  {
   "cell_type": "code",
   "execution_count": 8,
   "id": "cde6aa7e",
   "metadata": {},
   "outputs": [
    {
     "data": {
      "text/plain": [
       "<AxesSubplot:>"
      ]
     },
     "execution_count": 8,
     "metadata": {},
     "output_type": "execute_result"
    },
    {
     "data": {
      "image/png": "[encoded data removed]",
      "text/plain": [
       "<Figure size 792x648 with 2 Axes>"
      ]
     },
     "metadata": {
      "needs_background": "light"
     },
     "output_type": "display_data"
    }
   ],
   "source": [
    "corr = df.corr()\n",
    "\n",
    "\n",
    "mask = np.triu(np.ones_like(corr, dtype=bool))\n",
    "\n",
    "# Set up the matplotlib figure\n",
    "f, ax = plt.subplots(figsize=(11, 9))\n",
    "\n",
    "# Generate a custom diverging colormap\n",
    "cmap = sns.diverging_palette(230, 20, as_cmap=True)\n",
    "\n",
    "# Draw the heatmap with the mask and correct aspect ratio\n",
    "sns.heatmap(corr, mask=mask, cmap=cmap, vmax=.3, center=0, square=True, linewidths=.5, cbar_kws={\"shrink\": .5}, annot = True)"
   ]
  },
  {
   "cell_type": "code",
   "execution_count": 9,
   "id": "fedba70c",
   "metadata": {},
   "outputs": [],
   "source": [
    "data = df.sample(1000)"
   ]
  },
  {
   "cell_type": "code",
   "execution_count": 10,
   "id": "9675e150",
   "metadata": {},
   "outputs": [],
   "source": [
    "# sns.catplot(x=\"OP_UNIQUE_CARRIER\", y=\"TAXI_OUT\", hue=\"MONTH\",kind=\"violin\", data=data)"
   ]
  },
  {
   "cell_type": "markdown",
   "id": "1c4e672d",
   "metadata": {},
   "source": []
  },
  {
   "cell_type": "code",
   "execution_count": 11,
   "id": "c0cf21cf",
   "metadata": {},
   "outputs": [
    {
     "data": {
      "text/plain": [
       "<seaborn.axisgrid.FacetGrid at 0x13f94492708>"
      ]
     },
     "execution_count": 11,
     "metadata": {},
     "output_type": "execute_result"
    },
    {
     "data": {
      "image/png": "[encoded data removed]",
      "text/plain": [
       "<Figure size 360x360 with 1 Axes>"
      ]
     },
     "metadata": {
      "needs_background": "light"
     },
     "output_type": "display_data"
    }
   ],
   "source": [
    "sns.catplot(x=\"OP_UNIQUE_CARRIER\", y=\"TAXI_OUT\",data=data)"
   ]
  },
  {
   "cell_type": "markdown",
   "id": "080f4ebc",
   "metadata": {},
   "source": [
    "Above figure interprets that more delay can be seen in 9E,B6 and DL airlines and less in OO and HA airlines."
   ]
  },
  {
   "cell_type": "code",
   "execution_count": 12,
   "id": "bd1693b9",
   "metadata": {},
   "outputs": [
    {
     "data": {
      "text/plain": [
       "<seaborn.axisgrid.FacetGrid at 0x13f941466c8>"
      ]
     },
     "execution_count": 12,
     "metadata": {},
     "output_type": "execute_result"
    },
    {
     "data": {
      "image/png": "[encoded data removed]",
      "text/plain": [
       "<Figure size 408.75x360 with 1 Axes>"
      ]
     },
     "metadata": {
      "needs_background": "light"
     },
     "output_type": "display_data"
    }
   ],
   "source": [
    "sns.catplot(x=\"OP_UNIQUE_CARRIER\", y=\"TAXI_OUT\",hue=\"MONTH\",data=data)"
   ]
  },
  {
   "cell_type": "markdown",
   "id": "3ee70b9f",
   "metadata": {},
   "source": [
    "Above figure interprets that more delay in all 3 months can be seen in 9E,B6 and DL airlines and less in OO and HA airlines."
   ]
  },
  {
   "cell_type": "code",
   "execution_count": 13,
   "id": "c99335cb",
   "metadata": {},
   "outputs": [],
   "source": [
    "# sns.catplot(x=\"OP_UNIQUE_CARRIER\", y=\"TAXI_OUT\",hue=\"DEST\",data=data)"
   ]
  },
  {
   "cell_type": "code",
   "execution_count": 14,
   "id": "4e39d41f",
   "metadata": {},
   "outputs": [
    {
     "data": {
      "text/plain": [
       "<matplotlib.collections.PathCollection at 0x13f942254c8>"
      ]
     },
     "execution_count": 14,
     "metadata": {},
     "output_type": "execute_result"
    },
    {
     "data": {
      "image/png": "[encoded data removed]",
      "text/plain": [
       "<Figure size 432x288 with 1 Axes>"
      ]
     },
     "metadata": {
      "needs_background": "light"
     },
     "output_type": "display_data"
    }
   ],
   "source": [
    "plt.scatter(x=data['DAY_OF_WEEK'], y=data['Wind Speed'])"
   ]
  },
  {
   "cell_type": "code",
   "execution_count": 15,
   "id": "b8807a5b",
   "metadata": {},
   "outputs": [
    {
     "data": {
      "text/plain": [
       "<matplotlib.collections.PathCollection at 0x13f9475d8c8>"
      ]
     },
     "execution_count": 15,
     "metadata": {},
     "output_type": "execute_result"
    },
    {
     "data": {
      "image/png": "[encoded data removed]",
      "text/plain": [
       "<Figure size 432x288 with 1 Axes>"
      ]
     },
     "metadata": {
      "needs_background": "light"
     },
     "output_type": "display_data"
    }
   ],
   "source": [
    "plt.scatter(x=data['DAY_OF_WEEK'], y=data['TAXI_OUT'])"
   ]
  },
  {
   "cell_type": "markdown",
   "id": "0534ac93",
   "metadata": {},
   "source": [
    "The above figure shows that delay is more on 2nd,4th,7th days of week compared to other days."
   ]
  },
  {
   "cell_type": "code",
   "execution_count": 16,
   "id": "2a0575fc",
   "metadata": {},
   "outputs": [
    {
     "data": {
      "text/plain": [
       "<seaborn.axisgrid.FacetGrid at 0x13f942bab88>"
      ]
     },
     "execution_count": 16,
     "metadata": {},
     "output_type": "execute_result"
    },
    {
     "data": {
      "image/png": "[encoded data removed]",
      "text/plain": [
       "<Figure size 360x360 with 1 Axes>"
      ]
     },
     "metadata": {
      "needs_background": "light"
     },
     "output_type": "display_data"
    }
   ],
   "source": [
    "sns.catplot(y='Condition', x='TAXI_OUT',data=data)"
   ]
  },
  {
   "cell_type": "markdown",
   "id": "69193aca",
   "metadata": {},
   "source": [
    "from the above catplot, we can interpret that when weather condition is fair and mostly cloudly, more taxi-layoutdelay occured. "
   ]
  },
  {
   "cell_type": "code",
   "execution_count": 17,
   "id": "05a6f55d",
   "metadata": {},
   "outputs": [],
   "source": [
    "# sns.catplot(y='DEP_DELAY', x='TAXI_OUT',data=data)"
   ]
  },
  {
   "cell_type": "markdown",
   "id": "88eabc63",
   "metadata": {},
   "source": [
    "Find correlation between all features with respect to `TAXI_OUT` to check highly correlated features:"
   ]
  },
  {
   "cell_type": "code",
   "execution_count": 18,
   "id": "487573ea",
   "metadata": {},
   "outputs": [
    {
     "data": {
      "text/plain": [
       "<AxesSubplot:title={'center':'Correlation with Taxi_out'}>"
      ]
     },
     "execution_count": 18,
     "metadata": {},
     "output_type": "execute_result"
    },
    {
     "data": {
      "image/png": "[encoded data removed]",
      "text/plain": [
       "<Figure size 432x288 with 1 Axes>"
      ]
     },
     "metadata": {
      "needs_background": "light"
     },
     "output_type": "display_data"
    }
   ],
   "source": [
    "df.drop(columns = ['TAXI_OUT'],axis = 1).corrwith(df['TAXI_OUT']).plot(kind = 'bar',title = 'Correlation with Taxi_out')"
   ]
  },
  {
   "cell_type": "markdown",
   "id": "20f0b33a",
   "metadata": {},
   "source": [
    "But in the above correlation we are missing categorical values. "
   ]
  },
  {
   "cell_type": "markdown",
   "id": "6b24f1d5",
   "metadata": {},
   "source": [
    "# Step 4: Modelling\n",
    "Refer to the Problem and Main Question.\n",
    "- What are the input variables (features)?\n",
    "- Is there an output variable (label)?\n",
    "- If there is an output variable:\n",
    "    - What is it?\n",
    "    - What is its type?\n",
    "- What type of Modelling is it?\n",
    "    - [ ] Supervised\n",
    "    - [ ] Unsupervised \n",
    "- What type of Modelling is it?\n",
    "    - [ ] Regression\n",
    "    - [ ] Classification (binary) \n",
    "    - [ ] Classification (multi-class)\n",
    "    - [ ] Clustering"
   ]
  },
  {
   "cell_type": "markdown",
   "id": "0a2f46a0",
   "metadata": {},
   "source": [
    "Since our problem statement is to find taxi-layout delay which is a continuous variable, we are choosing regression model\n",
    "\n",
    "X is an input variable which is also known as predictor variable"
   ]
  },
  {
   "cell_type": "code",
   "execution_count": 19,
   "id": "d99b8c65",
   "metadata": {},
   "outputs": [
    {
     "data": {
      "text/plain": [
       "Index(['MONTH', 'DAY_OF_MONTH', 'DAY_OF_WEEK', 'OP_UNIQUE_CARRIER', 'TAIL_NUM',\n",
       "       'DEST', 'DEP_DELAY', 'CRS_ELAPSED_TIME', 'DISTANCE', 'CRS_DEP_M',\n",
       "       'DEP_TIME_M', 'CRS_ARR_M', 'Temperature', 'Dew Point', 'Humidity',\n",
       "       'Wind', 'Wind Speed', 'Wind Gust', 'Pressure', 'Condition', 'sch_dep',\n",
       "       'sch_arr'],\n",
       "      dtype='object')"
      ]
     },
     "execution_count": 19,
     "metadata": {},
     "output_type": "execute_result"
    }
   ],
   "source": [
    "X = df.drop(columns = ['TAXI_OUT'],axis = 1)\n",
    "X.columns"
   ]
  },
  {
   "cell_type": "markdown",
   "id": "efafd116",
   "metadata": {},
   "source": [
    "y is an output variable and is also known as target variable"
   ]
  },
  {
   "cell_type": "code",
   "execution_count": 20,
   "id": "2b059f96",
   "metadata": {},
   "outputs": [
    {
     "data": {
      "text/plain": [
       "0        14\n",
       "1        15\n",
       "2        22\n",
       "3        12\n",
       "4        13\n",
       "         ..\n",
       "28815    19\n",
       "28816    22\n",
       "28817    21\n",
       "28818    13\n",
       "28819    15\n",
       "Name: TAXI_OUT, Length: 28820, dtype: int64"
      ]
     },
     "execution_count": 20,
     "metadata": {},
     "output_type": "execute_result"
    }
   ],
   "source": [
    "y = df['TAXI_OUT']\n",
    "y"
   ]
  },
  {
   "cell_type": "markdown",
   "id": "2bbd370f",
   "metadata": {},
   "source": [
    "Find categorical features:"
   ]
  },
  {
   "cell_type": "code",
   "execution_count": 21,
   "id": "26769551",
   "metadata": {},
   "outputs": [
    {
     "data": {
      "text/plain": [
       "['OP_UNIQUE_CARRIER', 'TAIL_NUM', 'DEST', 'Dew Point', 'Wind', 'Condition']"
      ]
     },
     "execution_count": 21,
     "metadata": {},
     "output_type": "execute_result"
    }
   ],
   "source": [
    "object_cols = list(X.select_dtypes(include = 'object').columns)\n",
    "object_cols"
   ]
  },
  {
   "cell_type": "code",
   "execution_count": 22,
   "id": "1a783c96",
   "metadata": {},
   "outputs": [],
   "source": [
    "X['Dew Point'] = X['Dew Point'].astype(int)"
   ]
  },
  {
   "cell_type": "code",
   "execution_count": 23,
   "id": "76212715",
   "metadata": {},
   "outputs": [
    {
     "data": {
      "text/plain": [
       "['OP_UNIQUE_CARRIER', 'TAIL_NUM', 'DEST', 'Wind', 'Condition']"
      ]
     },
     "execution_count": 23,
     "metadata": {},
     "output_type": "execute_result"
    }
   ],
   "source": [
    "object_cols = list(X.select_dtypes(include = 'object').columns)\n",
    "object_cols"
   ]
  },
  {
   "cell_type": "markdown",
   "id": "437fdf17",
   "metadata": {},
   "source": [
    "Find numerical features:"
   ]
  },
  {
   "cell_type": "code",
   "execution_count": 24,
   "id": "87ad5c15",
   "metadata": {},
   "outputs": [
    {
     "data": {
      "text/plain": [
       "['sch_dep',\n",
       " 'sch_arr',\n",
       " 'Wind Speed',\n",
       " 'DEP_DELAY',\n",
       " 'DAY_OF_WEEK',\n",
       " 'CRS_DEP_M',\n",
       " 'Dew Point',\n",
       " 'CRS_ELAPSED_TIME',\n",
       " 'Pressure',\n",
       " 'DAY_OF_MONTH',\n",
       " 'Wind Gust',\n",
       " 'MONTH',\n",
       " 'DISTANCE',\n",
       " 'DEP_TIME_M',\n",
       " 'CRS_ARR_M',\n",
       " 'Humidity',\n",
       " 'Temperature']"
      ]
     },
     "execution_count": 24,
     "metadata": {},
     "output_type": "execute_result"
    }
   ],
   "source": [
    "numeric_cols = list(set(X.columns) - set(object_cols)) \n",
    "numeric_cols"
   ]
  },
  {
   "cell_type": "markdown",
   "id": "2ddc019b",
   "metadata": {},
   "source": [
    "Using One-hot encoding to convert categocial features into numerical features, so that we can predict target variable"
   ]
  },
  {
   "cell_type": "code",
   "execution_count": 25,
   "id": "e7119d78",
   "metadata": {},
   "outputs": [
    {
     "data": {
      "text/plain": [
       "Index(['MONTH', 'DAY_OF_MONTH', 'DAY_OF_WEEK', 'TAIL_NUM', 'DEST', 'DEP_DELAY',\n",
       "       'CRS_ELAPSED_TIME', 'DISTANCE', 'CRS_DEP_M', 'DEP_TIME_M', 'CRS_ARR_M',\n",
       "       'Temperature', 'Dew Point', 'Humidity', 'Wind', 'Wind Speed',\n",
       "       'Wind Gust', 'Pressure', 'sch_dep', 'sch_arr', 'OP_UNIQUE_CARRIER_9E',\n",
       "       'OP_UNIQUE_CARRIER_AA', 'OP_UNIQUE_CARRIER_AS', 'OP_UNIQUE_CARRIER_B6',\n",
       "       'OP_UNIQUE_CARRIER_DL', 'OP_UNIQUE_CARRIER_HA', 'OP_UNIQUE_CARRIER_MQ',\n",
       "       'OP_UNIQUE_CARRIER_OO', 'OP_UNIQUE_CARRIER_YX', 'Condition_Cloudy',\n",
       "       'Condition_Cloudy / Windy', 'Condition_Drizzle and Fog',\n",
       "       'Condition_Fair', 'Condition_Fair / Windy', 'Condition_Fog',\n",
       "       'Condition_Fog / Windy', 'Condition_Heavy Rain',\n",
       "       'Condition_Heavy Rain / Windy', 'Condition_Light Drizzle',\n",
       "       'Condition_Light Drizzle / Windy', 'Condition_Light Freezing Rain',\n",
       "       'Condition_Light Rain', 'Condition_Light Rain / Windy',\n",
       "       'Condition_Light Snow', 'Condition_Light Snow / Windy',\n",
       "       'Condition_Mostly Cloudy', 'Condition_Mostly Cloudy / Windy',\n",
       "       'Condition_Partly Cloudy', 'Condition_Partly Cloudy / Windy',\n",
       "       'Condition_Rain', 'Condition_Rain / Windy', 'Condition_Snow',\n",
       "       'Condition_Wintry Mix', 'Condition_Wintry Mix / Windy'],\n",
       "      dtype='object')"
      ]
     },
     "execution_count": 25,
     "metadata": {},
     "output_type": "execute_result"
    }
   ],
   "source": [
    "X_Obj = pd.get_dummies(X, columns=['OP_UNIQUE_CARRIER', 'Condition'])\n",
    "X_Obj.columns"
   ]
  },
  {
   "cell_type": "markdown",
   "id": "beb0270f",
   "metadata": {},
   "source": [
    "The resultant dataframe is the one where dummy features are created for given features and output can be seen in the form of 1s and 0s. "
   ]
  },
  {
   "cell_type": "code",
   "execution_count": 26,
   "id": "3dd9364d",
   "metadata": {},
   "outputs": [
    {
     "data": {
      "text/html": [
       "<div>\n",
       "<style scoped>\n",
       "    .dataframe tbody tr th:only-of-type {\n",
       "        vertical-align: middle;\n",
       "    }\n",
       "\n",
       "    .dataframe tbody tr th {\n",
       "        vertical-align: top;\n",
       "    }\n",
       "\n",
       "    .dataframe thead th {\n",
       "        text-align: right;\n",
       "    }\n",
       "</style>\n",
       "<table border=\"1\" class=\"dataframe\">\n",
       "  <thead>\n",
       "    <tr style=\"text-align: right;\">\n",
       "      <th></th>\n",
       "      <th>MONTH</th>\n",
       "      <th>DAY_OF_MONTH</th>\n",
       "      <th>DAY_OF_WEEK</th>\n",
       "      <th>TAIL_NUM</th>\n",
       "      <th>DEST</th>\n",
       "      <th>DEP_DELAY</th>\n",
       "      <th>CRS_ELAPSED_TIME</th>\n",
       "      <th>DISTANCE</th>\n",
       "      <th>CRS_DEP_M</th>\n",
       "      <th>DEP_TIME_M</th>\n",
       "      <th>...</th>\n",
       "      <th>Condition_Light Snow / Windy</th>\n",
       "      <th>Condition_Mostly Cloudy</th>\n",
       "      <th>Condition_Mostly Cloudy / Windy</th>\n",
       "      <th>Condition_Partly Cloudy</th>\n",
       "      <th>Condition_Partly Cloudy / Windy</th>\n",
       "      <th>Condition_Rain</th>\n",
       "      <th>Condition_Rain / Windy</th>\n",
       "      <th>Condition_Snow</th>\n",
       "      <th>Condition_Wintry Mix</th>\n",
       "      <th>Condition_Wintry Mix / Windy</th>\n",
       "    </tr>\n",
       "  </thead>\n",
       "  <tbody>\n",
       "    <tr>\n",
       "      <th>0</th>\n",
       "      <td>11</td>\n",
       "      <td>1</td>\n",
       "      <td>5</td>\n",
       "      <td>N828JB</td>\n",
       "      <td>CHS</td>\n",
       "      <td>-1</td>\n",
       "      <td>124</td>\n",
       "      <td>636</td>\n",
       "      <td>324</td>\n",
       "      <td>323</td>\n",
       "      <td>...</td>\n",
       "      <td>0</td>\n",
       "      <td>0</td>\n",
       "      <td>0</td>\n",
       "      <td>0</td>\n",
       "      <td>0</td>\n",
       "      <td>0</td>\n",
       "      <td>0</td>\n",
       "      <td>0</td>\n",
       "      <td>0</td>\n",
       "      <td>0</td>\n",
       "    </tr>\n",
       "    <tr>\n",
       "      <th>1</th>\n",
       "      <td>11</td>\n",
       "      <td>1</td>\n",
       "      <td>5</td>\n",
       "      <td>N992JB</td>\n",
       "      <td>LAX</td>\n",
       "      <td>-7</td>\n",
       "      <td>371</td>\n",
       "      <td>2475</td>\n",
       "      <td>340</td>\n",
       "      <td>333</td>\n",
       "      <td>...</td>\n",
       "      <td>0</td>\n",
       "      <td>0</td>\n",
       "      <td>0</td>\n",
       "      <td>0</td>\n",
       "      <td>0</td>\n",
       "      <td>0</td>\n",
       "      <td>0</td>\n",
       "      <td>0</td>\n",
       "      <td>0</td>\n",
       "      <td>0</td>\n",
       "    </tr>\n",
       "    <tr>\n",
       "      <th>2</th>\n",
       "      <td>11</td>\n",
       "      <td>1</td>\n",
       "      <td>5</td>\n",
       "      <td>N959JB</td>\n",
       "      <td>FLL</td>\n",
       "      <td>40</td>\n",
       "      <td>181</td>\n",
       "      <td>1069</td>\n",
       "      <td>301</td>\n",
       "      <td>341</td>\n",
       "      <td>...</td>\n",
       "      <td>0</td>\n",
       "      <td>0</td>\n",
       "      <td>0</td>\n",
       "      <td>0</td>\n",
       "      <td>0</td>\n",
       "      <td>0</td>\n",
       "      <td>0</td>\n",
       "      <td>0</td>\n",
       "      <td>0</td>\n",
       "      <td>0</td>\n",
       "    </tr>\n",
       "    <tr>\n",
       "      <th>3</th>\n",
       "      <td>11</td>\n",
       "      <td>1</td>\n",
       "      <td>5</td>\n",
       "      <td>N999JQ</td>\n",
       "      <td>MCO</td>\n",
       "      <td>-2</td>\n",
       "      <td>168</td>\n",
       "      <td>944</td>\n",
       "      <td>345</td>\n",
       "      <td>343</td>\n",
       "      <td>...</td>\n",
       "      <td>0</td>\n",
       "      <td>0</td>\n",
       "      <td>0</td>\n",
       "      <td>0</td>\n",
       "      <td>0</td>\n",
       "      <td>0</td>\n",
       "      <td>0</td>\n",
       "      <td>0</td>\n",
       "      <td>0</td>\n",
       "      <td>0</td>\n",
       "    </tr>\n",
       "    <tr>\n",
       "      <th>4</th>\n",
       "      <td>11</td>\n",
       "      <td>1</td>\n",
       "      <td>5</td>\n",
       "      <td>N880DN</td>\n",
       "      <td>ATL</td>\n",
       "      <td>-4</td>\n",
       "      <td>139</td>\n",
       "      <td>760</td>\n",
       "      <td>360</td>\n",
       "      <td>356</td>\n",
       "      <td>...</td>\n",
       "      <td>0</td>\n",
       "      <td>0</td>\n",
       "      <td>0</td>\n",
       "      <td>0</td>\n",
       "      <td>0</td>\n",
       "      <td>0</td>\n",
       "      <td>0</td>\n",
       "      <td>0</td>\n",
       "      <td>0</td>\n",
       "      <td>0</td>\n",
       "    </tr>\n",
       "    <tr>\n",
       "      <th>...</th>\n",
       "      <td>...</td>\n",
       "      <td>...</td>\n",
       "      <td>...</td>\n",
       "      <td>...</td>\n",
       "      <td>...</td>\n",
       "      <td>...</td>\n",
       "      <td>...</td>\n",
       "      <td>...</td>\n",
       "      <td>...</td>\n",
       "      <td>...</td>\n",
       "      <td>...</td>\n",
       "      <td>...</td>\n",
       "      <td>...</td>\n",
       "      <td>...</td>\n",
       "      <td>...</td>\n",
       "      <td>...</td>\n",
       "      <td>...</td>\n",
       "      <td>...</td>\n",
       "      <td>...</td>\n",
       "      <td>...</td>\n",
       "      <td>...</td>\n",
       "    </tr>\n",
       "    <tr>\n",
       "      <th>28815</th>\n",
       "      <td>1</td>\n",
       "      <td>31</td>\n",
       "      <td>5</td>\n",
       "      <td>N216JB</td>\n",
       "      <td>ORH</td>\n",
       "      <td>2</td>\n",
       "      <td>57</td>\n",
       "      <td>150</td>\n",
       "      <td>1370</td>\n",
       "      <td>1372</td>\n",
       "      <td>...</td>\n",
       "      <td>0</td>\n",
       "      <td>0</td>\n",
       "      <td>0</td>\n",
       "      <td>0</td>\n",
       "      <td>0</td>\n",
       "      <td>0</td>\n",
       "      <td>0</td>\n",
       "      <td>0</td>\n",
       "      <td>0</td>\n",
       "      <td>0</td>\n",
       "    </tr>\n",
       "    <tr>\n",
       "      <th>28816</th>\n",
       "      <td>1</td>\n",
       "      <td>31</td>\n",
       "      <td>5</td>\n",
       "      <td>N104NN</td>\n",
       "      <td>BOS</td>\n",
       "      <td>2</td>\n",
       "      <td>75</td>\n",
       "      <td>187</td>\n",
       "      <td>1390</td>\n",
       "      <td>1392</td>\n",
       "      <td>...</td>\n",
       "      <td>0</td>\n",
       "      <td>0</td>\n",
       "      <td>0</td>\n",
       "      <td>0</td>\n",
       "      <td>0</td>\n",
       "      <td>0</td>\n",
       "      <td>0</td>\n",
       "      <td>0</td>\n",
       "      <td>0</td>\n",
       "      <td>0</td>\n",
       "    </tr>\n",
       "    <tr>\n",
       "      <th>28817</th>\n",
       "      <td>1</td>\n",
       "      <td>31</td>\n",
       "      <td>5</td>\n",
       "      <td>N581AS</td>\n",
       "      <td>SEA</td>\n",
       "      <td>283</td>\n",
       "      <td>392</td>\n",
       "      <td>2422</td>\n",
       "      <td>1125</td>\n",
       "      <td>1408</td>\n",
       "      <td>...</td>\n",
       "      <td>0</td>\n",
       "      <td>0</td>\n",
       "      <td>0</td>\n",
       "      <td>0</td>\n",
       "      <td>0</td>\n",
       "      <td>0</td>\n",
       "      <td>0</td>\n",
       "      <td>0</td>\n",
       "      <td>0</td>\n",
       "      <td>0</td>\n",
       "    </tr>\n",
       "    <tr>\n",
       "      <th>28818</th>\n",
       "      <td>1</td>\n",
       "      <td>31</td>\n",
       "      <td>5</td>\n",
       "      <td>N957JB</td>\n",
       "      <td>SJU</td>\n",
       "      <td>5</td>\n",
       "      <td>224</td>\n",
       "      <td>1598</td>\n",
       "      <td>1417</td>\n",
       "      <td>1422</td>\n",
       "      <td>...</td>\n",
       "      <td>0</td>\n",
       "      <td>0</td>\n",
       "      <td>0</td>\n",
       "      <td>0</td>\n",
       "      <td>0</td>\n",
       "      <td>0</td>\n",
       "      <td>0</td>\n",
       "      <td>0</td>\n",
       "      <td>0</td>\n",
       "      <td>0</td>\n",
       "    </tr>\n",
       "    <tr>\n",
       "      <th>28819</th>\n",
       "      <td>1</td>\n",
       "      <td>31</td>\n",
       "      <td>5</td>\n",
       "      <td>N958JB</td>\n",
       "      <td>BQN</td>\n",
       "      <td>-1</td>\n",
       "      <td>225</td>\n",
       "      <td>1576</td>\n",
       "      <td>1439</td>\n",
       "      <td>1438</td>\n",
       "      <td>...</td>\n",
       "      <td>0</td>\n",
       "      <td>0</td>\n",
       "      <td>0</td>\n",
       "      <td>0</td>\n",
       "      <td>0</td>\n",
       "      <td>0</td>\n",
       "      <td>0</td>\n",
       "      <td>0</td>\n",
       "      <td>0</td>\n",
       "      <td>0</td>\n",
       "    </tr>\n",
       "  </tbody>\n",
       "</table>\n",
       "<p>28820 rows × 54 columns</p>\n",
       "</div>"
      ],
      "text/plain": [
       "       MONTH  DAY_OF_MONTH  DAY_OF_WEEK TAIL_NUM DEST  DEP_DELAY  \\\n",
       "0         11             1            5   N828JB  CHS         -1   \n",
       "1         11             1            5   N992JB  LAX         -7   \n",
       "2         11             1            5   N959JB  FLL         40   \n",
       "3         11             1            5   N999JQ  MCO         -2   \n",
       "4         11             1            5   N880DN  ATL         -4   \n",
       "...      ...           ...          ...      ...  ...        ...   \n",
       "28815      1            31            5   N216JB  ORH          2   \n",
       "28816      1            31            5   N104NN  BOS          2   \n",
       "28817      1            31            5   N581AS  SEA        283   \n",
       "28818      1            31            5   N957JB  SJU          5   \n",
       "28819      1            31            5   N958JB  BQN         -1   \n",
       "\n",
       "       CRS_ELAPSED_TIME  DISTANCE  CRS_DEP_M  DEP_TIME_M  ...  \\\n",
       "0                   124       636        324         323  ...   \n",
       "1                   371      2475        340         333  ...   \n",
       "2                   181      1069        301         341  ...   \n",
       "3                   168       944        345         343  ...   \n",
       "4                   139       760        360         356  ...   \n",
       "...                 ...       ...        ...         ...  ...   \n",
       "28815                57       150       1370        1372  ...   \n",
       "28816                75       187       1390        1392  ...   \n",
       "28817               392      2422       1125        1408  ...   \n",
       "28818               224      1598       1417        1422  ...   \n",
       "28819               225      1576       1439        1438  ...   \n",
       "\n",
       "       Condition_Light Snow / Windy  Condition_Mostly Cloudy  \\\n",
       "0                                 0                        0   \n",
       "1                                 0                        0   \n",
       "2                                 0                        0   \n",
       "3                                 0                        0   \n",
       "4                                 0                        0   \n",
       "...                             ...                      ...   \n",
       "28815                             0                        0   \n",
       "28816                             0                        0   \n",
       "28817                             0                        0   \n",
       "28818                             0                        0   \n",
       "28819                             0                        0   \n",
       "\n",
       "       Condition_Mostly Cloudy / Windy  Condition_Partly Cloudy  \\\n",
       "0                                    0                        0   \n",
       "1                                    0                        0   \n",
       "2                                    0                        0   \n",
       "3                                    0                        0   \n",
       "4                                    0                        0   \n",
       "...                                ...                      ...   \n",
       "28815                                0                        0   \n",
       "28816                                0                        0   \n",
       "28817                                0                        0   \n",
       "28818                                0                        0   \n",
       "28819                                0                        0   \n",
       "\n",
       "      Condition_Partly Cloudy / Windy  Condition_Rain  Condition_Rain / Windy  \\\n",
       "0                                   0               0                       0   \n",
       "1                                   0               0                       0   \n",
       "2                                   0               0                       0   \n",
       "3                                   0               0                       0   \n",
       "4                                   0               0                       0   \n",
       "...                               ...             ...                     ...   \n",
       "28815                               0               0                       0   \n",
       "28816                               0               0                       0   \n",
       "28817                               0               0                       0   \n",
       "28818                               0               0                       0   \n",
       "28819                               0               0                       0   \n",
       "\n",
       "       Condition_Snow  Condition_Wintry Mix  Condition_Wintry Mix / Windy  \n",
       "0                   0                     0                             0  \n",
       "1                   0                     0                             0  \n",
       "2                   0                     0                             0  \n",
       "3                   0                     0                             0  \n",
       "4                   0                     0                             0  \n",
       "...               ...                   ...                           ...  \n",
       "28815               0                     0                             0  \n",
       "28816               0                     0                             0  \n",
       "28817               0                     0                             0  \n",
       "28818               0                     0                             0  \n",
       "28819               0                     0                             0  \n",
       "\n",
       "[28820 rows x 54 columns]"
      ]
     },
     "execution_count": 26,
     "metadata": {},
     "output_type": "execute_result"
    }
   ],
   "source": [
    "X_Obj"
   ]
  },
  {
   "cell_type": "markdown",
   "id": "e40e26ee",
   "metadata": {},
   "source": [
    "Since we assume TAIL_NUM,DEST,WIND are not important, we are dropping these features"
   ]
  },
  {
   "cell_type": "code",
   "execution_count": 27,
   "id": "7cb3fa4d",
   "metadata": {},
   "outputs": [
    {
     "data": {
      "text/html": [
       "<div>\n",
       "<style scoped>\n",
       "    .dataframe tbody tr th:only-of-type {\n",
       "        vertical-align: middle;\n",
       "    }\n",
       "\n",
       "    .dataframe tbody tr th {\n",
       "        vertical-align: top;\n",
       "    }\n",
       "\n",
       "    .dataframe thead th {\n",
       "        text-align: right;\n",
       "    }\n",
       "</style>\n",
       "<table border=\"1\" class=\"dataframe\">\n",
       "  <thead>\n",
       "    <tr style=\"text-align: right;\">\n",
       "      <th></th>\n",
       "      <th>MONTH</th>\n",
       "      <th>DAY_OF_MONTH</th>\n",
       "      <th>DAY_OF_WEEK</th>\n",
       "      <th>DEP_DELAY</th>\n",
       "      <th>CRS_ELAPSED_TIME</th>\n",
       "      <th>DISTANCE</th>\n",
       "      <th>CRS_DEP_M</th>\n",
       "      <th>DEP_TIME_M</th>\n",
       "      <th>CRS_ARR_M</th>\n",
       "      <th>Temperature</th>\n",
       "      <th>...</th>\n",
       "      <th>Condition_Light Snow / Windy</th>\n",
       "      <th>Condition_Mostly Cloudy</th>\n",
       "      <th>Condition_Mostly Cloudy / Windy</th>\n",
       "      <th>Condition_Partly Cloudy</th>\n",
       "      <th>Condition_Partly Cloudy / Windy</th>\n",
       "      <th>Condition_Rain</th>\n",
       "      <th>Condition_Rain / Windy</th>\n",
       "      <th>Condition_Snow</th>\n",
       "      <th>Condition_Wintry Mix</th>\n",
       "      <th>Condition_Wintry Mix / Windy</th>\n",
       "    </tr>\n",
       "  </thead>\n",
       "  <tbody>\n",
       "    <tr>\n",
       "      <th>0</th>\n",
       "      <td>11</td>\n",
       "      <td>1</td>\n",
       "      <td>5</td>\n",
       "      <td>-1</td>\n",
       "      <td>124</td>\n",
       "      <td>636</td>\n",
       "      <td>324</td>\n",
       "      <td>323</td>\n",
       "      <td>448</td>\n",
       "      <td>48</td>\n",
       "      <td>...</td>\n",
       "      <td>0</td>\n",
       "      <td>0</td>\n",
       "      <td>0</td>\n",
       "      <td>0</td>\n",
       "      <td>0</td>\n",
       "      <td>0</td>\n",
       "      <td>0</td>\n",
       "      <td>0</td>\n",
       "      <td>0</td>\n",
       "      <td>0</td>\n",
       "    </tr>\n",
       "    <tr>\n",
       "      <th>1</th>\n",
       "      <td>11</td>\n",
       "      <td>1</td>\n",
       "      <td>5</td>\n",
       "      <td>-7</td>\n",
       "      <td>371</td>\n",
       "      <td>2475</td>\n",
       "      <td>340</td>\n",
       "      <td>333</td>\n",
       "      <td>531</td>\n",
       "      <td>48</td>\n",
       "      <td>...</td>\n",
       "      <td>0</td>\n",
       "      <td>0</td>\n",
       "      <td>0</td>\n",
       "      <td>0</td>\n",
       "      <td>0</td>\n",
       "      <td>0</td>\n",
       "      <td>0</td>\n",
       "      <td>0</td>\n",
       "      <td>0</td>\n",
       "      <td>0</td>\n",
       "    </tr>\n",
       "    <tr>\n",
       "      <th>2</th>\n",
       "      <td>11</td>\n",
       "      <td>1</td>\n",
       "      <td>5</td>\n",
       "      <td>40</td>\n",
       "      <td>181</td>\n",
       "      <td>1069</td>\n",
       "      <td>301</td>\n",
       "      <td>341</td>\n",
       "      <td>482</td>\n",
       "      <td>48</td>\n",
       "      <td>...</td>\n",
       "      <td>0</td>\n",
       "      <td>0</td>\n",
       "      <td>0</td>\n",
       "      <td>0</td>\n",
       "      <td>0</td>\n",
       "      <td>0</td>\n",
       "      <td>0</td>\n",
       "      <td>0</td>\n",
       "      <td>0</td>\n",
       "      <td>0</td>\n",
       "    </tr>\n",
       "    <tr>\n",
       "      <th>3</th>\n",
       "      <td>11</td>\n",
       "      <td>1</td>\n",
       "      <td>5</td>\n",
       "      <td>-2</td>\n",
       "      <td>168</td>\n",
       "      <td>944</td>\n",
       "      <td>345</td>\n",
       "      <td>343</td>\n",
       "      <td>513</td>\n",
       "      <td>48</td>\n",
       "      <td>...</td>\n",
       "      <td>0</td>\n",
       "      <td>0</td>\n",
       "      <td>0</td>\n",
       "      <td>0</td>\n",
       "      <td>0</td>\n",
       "      <td>0</td>\n",
       "      <td>0</td>\n",
       "      <td>0</td>\n",
       "      <td>0</td>\n",
       "      <td>0</td>\n",
       "    </tr>\n",
       "    <tr>\n",
       "      <th>4</th>\n",
       "      <td>11</td>\n",
       "      <td>1</td>\n",
       "      <td>5</td>\n",
       "      <td>-4</td>\n",
       "      <td>139</td>\n",
       "      <td>760</td>\n",
       "      <td>360</td>\n",
       "      <td>356</td>\n",
       "      <td>499</td>\n",
       "      <td>46</td>\n",
       "      <td>...</td>\n",
       "      <td>0</td>\n",
       "      <td>0</td>\n",
       "      <td>0</td>\n",
       "      <td>0</td>\n",
       "      <td>0</td>\n",
       "      <td>0</td>\n",
       "      <td>0</td>\n",
       "      <td>0</td>\n",
       "      <td>0</td>\n",
       "      <td>0</td>\n",
       "    </tr>\n",
       "    <tr>\n",
       "      <th>...</th>\n",
       "      <td>...</td>\n",
       "      <td>...</td>\n",
       "      <td>...</td>\n",
       "      <td>...</td>\n",
       "      <td>...</td>\n",
       "      <td>...</td>\n",
       "      <td>...</td>\n",
       "      <td>...</td>\n",
       "      <td>...</td>\n",
       "      <td>...</td>\n",
       "      <td>...</td>\n",
       "      <td>...</td>\n",
       "      <td>...</td>\n",
       "      <td>...</td>\n",
       "      <td>...</td>\n",
       "      <td>...</td>\n",
       "      <td>...</td>\n",
       "      <td>...</td>\n",
       "      <td>...</td>\n",
       "      <td>...</td>\n",
       "      <td>...</td>\n",
       "    </tr>\n",
       "    <tr>\n",
       "      <th>28815</th>\n",
       "      <td>1</td>\n",
       "      <td>31</td>\n",
       "      <td>5</td>\n",
       "      <td>2</td>\n",
       "      <td>57</td>\n",
       "      <td>150</td>\n",
       "      <td>1370</td>\n",
       "      <td>1372</td>\n",
       "      <td>1427</td>\n",
       "      <td>39</td>\n",
       "      <td>...</td>\n",
       "      <td>0</td>\n",
       "      <td>0</td>\n",
       "      <td>0</td>\n",
       "      <td>0</td>\n",
       "      <td>0</td>\n",
       "      <td>0</td>\n",
       "      <td>0</td>\n",
       "      <td>0</td>\n",
       "      <td>0</td>\n",
       "      <td>0</td>\n",
       "    </tr>\n",
       "    <tr>\n",
       "      <th>28816</th>\n",
       "      <td>1</td>\n",
       "      <td>31</td>\n",
       "      <td>5</td>\n",
       "      <td>2</td>\n",
       "      <td>75</td>\n",
       "      <td>187</td>\n",
       "      <td>1390</td>\n",
       "      <td>1392</td>\n",
       "      <td>25</td>\n",
       "      <td>39</td>\n",
       "      <td>...</td>\n",
       "      <td>0</td>\n",
       "      <td>0</td>\n",
       "      <td>0</td>\n",
       "      <td>0</td>\n",
       "      <td>0</td>\n",
       "      <td>0</td>\n",
       "      <td>0</td>\n",
       "      <td>0</td>\n",
       "      <td>0</td>\n",
       "      <td>0</td>\n",
       "    </tr>\n",
       "    <tr>\n",
       "      <th>28817</th>\n",
       "      <td>1</td>\n",
       "      <td>31</td>\n",
       "      <td>5</td>\n",
       "      <td>283</td>\n",
       "      <td>392</td>\n",
       "      <td>2422</td>\n",
       "      <td>1125</td>\n",
       "      <td>1408</td>\n",
       "      <td>1337</td>\n",
       "      <td>39</td>\n",
       "      <td>...</td>\n",
       "      <td>0</td>\n",
       "      <td>0</td>\n",
       "      <td>0</td>\n",
       "      <td>0</td>\n",
       "      <td>0</td>\n",
       "      <td>0</td>\n",
       "      <td>0</td>\n",
       "      <td>0</td>\n",
       "      <td>0</td>\n",
       "      <td>0</td>\n",
       "    </tr>\n",
       "    <tr>\n",
       "      <th>28818</th>\n",
       "      <td>1</td>\n",
       "      <td>31</td>\n",
       "      <td>5</td>\n",
       "      <td>5</td>\n",
       "      <td>224</td>\n",
       "      <td>1598</td>\n",
       "      <td>1417</td>\n",
       "      <td>1422</td>\n",
       "      <td>261</td>\n",
       "      <td>39</td>\n",
       "      <td>...</td>\n",
       "      <td>0</td>\n",
       "      <td>0</td>\n",
       "      <td>0</td>\n",
       "      <td>0</td>\n",
       "      <td>0</td>\n",
       "      <td>0</td>\n",
       "      <td>0</td>\n",
       "      <td>0</td>\n",
       "      <td>0</td>\n",
       "      <td>0</td>\n",
       "    </tr>\n",
       "    <tr>\n",
       "      <th>28819</th>\n",
       "      <td>1</td>\n",
       "      <td>31</td>\n",
       "      <td>5</td>\n",
       "      <td>-1</td>\n",
       "      <td>225</td>\n",
       "      <td>1576</td>\n",
       "      <td>1439</td>\n",
       "      <td>1438</td>\n",
       "      <td>284</td>\n",
       "      <td>39</td>\n",
       "      <td>...</td>\n",
       "      <td>0</td>\n",
       "      <td>0</td>\n",
       "      <td>0</td>\n",
       "      <td>0</td>\n",
       "      <td>0</td>\n",
       "      <td>0</td>\n",
       "      <td>0</td>\n",
       "      <td>0</td>\n",
       "      <td>0</td>\n",
       "      <td>0</td>\n",
       "    </tr>\n",
       "  </tbody>\n",
       "</table>\n",
       "<p>28820 rows × 51 columns</p>\n",
       "</div>"
      ],
      "text/plain": [
       "       MONTH  DAY_OF_MONTH  DAY_OF_WEEK  DEP_DELAY  CRS_ELAPSED_TIME  \\\n",
       "0         11             1            5         -1               124   \n",
       "1         11             1            5         -7               371   \n",
       "2         11             1            5         40               181   \n",
       "3         11             1            5         -2               168   \n",
       "4         11             1            5         -4               139   \n",
       "...      ...           ...          ...        ...               ...   \n",
       "28815      1            31            5          2                57   \n",
       "28816      1            31            5          2                75   \n",
       "28817      1            31            5        283               392   \n",
       "28818      1            31            5          5               224   \n",
       "28819      1            31            5         -1               225   \n",
       "\n",
       "       DISTANCE  CRS_DEP_M  DEP_TIME_M  CRS_ARR_M  Temperature  ...  \\\n",
       "0           636        324         323        448           48  ...   \n",
       "1          2475        340         333        531           48  ...   \n",
       "2          1069        301         341        482           48  ...   \n",
       "3           944        345         343        513           48  ...   \n",
       "4           760        360         356        499           46  ...   \n",
       "...         ...        ...         ...        ...          ...  ...   \n",
       "28815       150       1370        1372       1427           39  ...   \n",
       "28816       187       1390        1392         25           39  ...   \n",
       "28817      2422       1125        1408       1337           39  ...   \n",
       "28818      1598       1417        1422        261           39  ...   \n",
       "28819      1576       1439        1438        284           39  ...   \n",
       "\n",
       "       Condition_Light Snow / Windy  Condition_Mostly Cloudy  \\\n",
       "0                                 0                        0   \n",
       "1                                 0                        0   \n",
       "2                                 0                        0   \n",
       "3                                 0                        0   \n",
       "4                                 0                        0   \n",
       "...                             ...                      ...   \n",
       "28815                             0                        0   \n",
       "28816                             0                        0   \n",
       "28817                             0                        0   \n",
       "28818                             0                        0   \n",
       "28819                             0                        0   \n",
       "\n",
       "       Condition_Mostly Cloudy / Windy  Condition_Partly Cloudy  \\\n",
       "0                                    0                        0   \n",
       "1                                    0                        0   \n",
       "2                                    0                        0   \n",
       "3                                    0                        0   \n",
       "4                                    0                        0   \n",
       "...                                ...                      ...   \n",
       "28815                                0                        0   \n",
       "28816                                0                        0   \n",
       "28817                                0                        0   \n",
       "28818                                0                        0   \n",
       "28819                                0                        0   \n",
       "\n",
       "       Condition_Partly Cloudy / Windy  Condition_Rain  \\\n",
       "0                                    0               0   \n",
       "1                                    0               0   \n",
       "2                                    0               0   \n",
       "3                                    0               0   \n",
       "4                                    0               0   \n",
       "...                                ...             ...   \n",
       "28815                                0               0   \n",
       "28816                                0               0   \n",
       "28817                                0               0   \n",
       "28818                                0               0   \n",
       "28819                                0               0   \n",
       "\n",
       "       Condition_Rain / Windy  Condition_Snow  Condition_Wintry Mix  \\\n",
       "0                           0               0                     0   \n",
       "1                           0               0                     0   \n",
       "2                           0               0                     0   \n",
       "3                           0               0                     0   \n",
       "4                           0               0                     0   \n",
       "...                       ...             ...                   ...   \n",
       "28815                       0               0                     0   \n",
       "28816                       0               0                     0   \n",
       "28817                       0               0                     0   \n",
       "28818                       0               0                     0   \n",
       "28819                       0               0                     0   \n",
       "\n",
       "       Condition_Wintry Mix / Windy  \n",
       "0                                 0  \n",
       "1                                 0  \n",
       "2                                 0  \n",
       "3                                 0  \n",
       "4                                 0  \n",
       "...                             ...  \n",
       "28815                             0  \n",
       "28816                             0  \n",
       "28817                             0  \n",
       "28818                             0  \n",
       "28819                             0  \n",
       "\n",
       "[28820 rows x 51 columns]"
      ]
     },
     "execution_count": 27,
     "metadata": {},
     "output_type": "execute_result"
    }
   ],
   "source": [
    "X_new = X_Obj.drop(columns = ['TAIL_NUM','DEST','Wind'])\n",
    "X_new"
   ]
  },
  {
   "cell_type": "code",
   "execution_count": 28,
   "id": "dddb90bf",
   "metadata": {},
   "outputs": [
    {
     "data": {
      "image/png": "[encoded data removed]",
      "text/plain": [
       "<Figure size 2880x2160 with 56 Axes>"
      ]
     },
     "metadata": {
      "needs_background": "light"
     },
     "output_type": "display_data"
    }
   ],
   "source": [
    "X_new.hist(bins = 50, figsize = (40, 30))\n",
    "plt.show()"
   ]
  },
  {
   "cell_type": "markdown",
   "id": "58bbaaa5",
   "metadata": {},
   "source": [
    "Find all features of new dataframe:"
   ]
  },
  {
   "cell_type": "code",
   "execution_count": 29,
   "id": "b1f4cf82",
   "metadata": {},
   "outputs": [
    {
     "data": {
      "text/plain": [
       "Index(['MONTH', 'DAY_OF_MONTH', 'DAY_OF_WEEK', 'DEP_DELAY', 'CRS_ELAPSED_TIME',\n",
       "       'DISTANCE', 'CRS_DEP_M', 'DEP_TIME_M', 'CRS_ARR_M', 'Temperature',\n",
       "       'Dew Point', 'Humidity', 'Wind Speed', 'Wind Gust', 'Pressure',\n",
       "       'sch_dep', 'sch_arr', 'OP_UNIQUE_CARRIER_9E', 'OP_UNIQUE_CARRIER_AA',\n",
       "       'OP_UNIQUE_CARRIER_AS', 'OP_UNIQUE_CARRIER_B6', 'OP_UNIQUE_CARRIER_DL',\n",
       "       'OP_UNIQUE_CARRIER_HA', 'OP_UNIQUE_CARRIER_MQ', 'OP_UNIQUE_CARRIER_OO',\n",
       "       'OP_UNIQUE_CARRIER_YX', 'Condition_Cloudy', 'Condition_Cloudy / Windy',\n",
       "       'Condition_Drizzle and Fog', 'Condition_Fair', 'Condition_Fair / Windy',\n",
       "       'Condition_Fog', 'Condition_Fog / Windy', 'Condition_Heavy Rain',\n",
       "       'Condition_Heavy Rain / Windy', 'Condition_Light Drizzle',\n",
       "       'Condition_Light Drizzle / Windy', 'Condition_Light Freezing Rain',\n",
       "       'Condition_Light Rain', 'Condition_Light Rain / Windy',\n",
       "       'Condition_Light Snow', 'Condition_Light Snow / Windy',\n",
       "       'Condition_Mostly Cloudy', 'Condition_Mostly Cloudy / Windy',\n",
       "       'Condition_Partly Cloudy', 'Condition_Partly Cloudy / Windy',\n",
       "       'Condition_Rain', 'Condition_Rain / Windy', 'Condition_Snow',\n",
       "       'Condition_Wintry Mix', 'Condition_Wintry Mix / Windy'],\n",
       "      dtype='object')"
      ]
     },
     "execution_count": 29,
     "metadata": {},
     "output_type": "execute_result"
    }
   ],
   "source": [
    "X_new.columns"
   ]
  },
  {
   "cell_type": "markdown",
   "id": "d9df43f5",
   "metadata": {},
   "source": [
    "# Step 5: Split the Data\n",
    "\n",
    "Need to check for **Supervised->Regression** modelling:\n",
    "- Number of known cases or observations\n",
    "- Define the split in Training/Test or Training/Validation/Test and their proportions"
   ]
  },
  {
   "cell_type": "code",
   "execution_count": 30,
   "id": "fa153a73",
   "metadata": {},
   "outputs": [
    {
     "name": "stdout",
     "output_type": "stream",
     "text": [
      "(23056, 51)\n",
      "(5764, 51)\n",
      "(23056,)\n",
      "(5764,)\n"
     ]
    }
   ],
   "source": [
    "X_train,X_test,y_train,y_test = train_test_split(X_new,y,test_size = 0.2,random_state = 1)\n",
    "print(X_train.shape)\n",
    "print(X_test.shape)\n",
    "print(y_train.shape)\n",
    "print(y_test.shape)"
   ]
  },
  {
   "cell_type": "markdown",
   "id": "5ffd53f4",
   "metadata": {},
   "source": [
    "We have splitted predictor features dataframe(X_new) and target features dataframe(y) into 80/20 training and testing datasets "
   ]
  },
  {
   "cell_type": "markdown",
   "id": "03ed12bb",
   "metadata": {},
   "source": [
    "# Step 6: Define,Fit,Verify listed regression models\n",
    "\n",
    "Define the model and its hyper-parameters.\n",
    "\n",
    "- Fit model with training data\n",
    "- Use the **Predictor's testing** data to make predictions\n",
    "- What metrics are appropriate for the modelling approach used: Mean_squared_erros, R2 score"
   ]
  },
  {
   "cell_type": "markdown",
   "id": "00d141ae",
   "metadata": {},
   "source": [
    "**Linear Regression**\n",
    "\n",
    "The simplest form of regression is the linear regression, which assumes that the predictors have a linear relationship with the target variable. The input variables are assumed to have a Gaussian distribution. Another assumption is that the predictors are not highly correlated with each other (a problem called multi-collinearity).\n",
    "\n",
    "The linear regression equation can be expressed in the following form:\n",
    "\n",
    "y = a1x1 + a2x2 + a3x3 + ..... + anxn + b"
   ]
  },
  {
   "cell_type": "code",
   "execution_count": 31,
   "id": "a86f5ad6",
   "metadata": {},
   "outputs": [
    {
     "name": "stdout",
     "output_type": "stream",
     "text": [
      "6.467406331511011\n"
     ]
    }
   ],
   "source": [
    "from sklearn.metrics import mean_squared_error\n",
    "\n",
    "lr = LinearRegression()\n",
    "\n",
    "lr.fit(X_train,y_train)\n",
    "\n",
    "lr_rms = (mean_squared_error(y_test,lr.predict(X_test))**0.5)\n",
    "print(lr_rms)"
   ]
  },
  {
   "cell_type": "code",
   "execution_count": 32,
   "id": "876b129f",
   "metadata": {},
   "outputs": [
    {
     "data": {
      "text/plain": [
       "0.11546327015476432"
      ]
     },
     "execution_count": 32,
     "metadata": {},
     "output_type": "execute_result"
    }
   ],
   "source": [
    "lr_score = (r2_score(y_test,lr.predict(X_test)))\n",
    "lr_score"
   ]
  },
  {
   "cell_type": "markdown",
   "id": "e8ffe401",
   "metadata": {},
   "source": [
    "In the above 2 cells, we have created our LinearRegression model,fitted model with training datasets, used evaluation metrics root_mean_squared_error and r2score to check the effieciency of trained model.And we ended up getting mean_squared_error--6.46 and r2score 0.11547 which can also be respresented as 11.5% which is less than baseline score."
   ]
  },
  {
   "cell_type": "markdown",
   "id": "b64899b5",
   "metadata": {},
   "source": [
    "**Regularized Regression**\n",
    "\n",
    "As discussed above, linear regression works by selecting coefficients for each independent variable that minimizes a loss function. However, if the coefficients are too large, it can lead to model over-fitting on the training dataset. Such a model will not generalize well on the unseen data. To overcome this shortcoming, we do regularization which penalizes large coefficients. The following sections of the guide will discuss the various regularization algorithms.\n",
    "\n",
    "**Ridge Regression**\n",
    "\n",
    "Ridge regression is an extension of linear regression where the loss function is modified to minimize the complexity of the model. This modification is done by adding a penalty parameter that is equivalent to the square of the magnitude of the coefficients.\n",
    "\n",
    "In scikit-learn, a ridge regression model is constructed by using the Ridge class. The first line of code below instantiates the Ridge Regression model. The second line fits the model to the training data.\n",
    "\n",
    "The third line of code predicts, while the fourth and fifth lines print the evaluation metrics - RMSE and R-squared.\n"
   ]
  },
  {
   "cell_type": "code",
   "execution_count": 33,
   "id": "aef5cf3f",
   "metadata": {},
   "outputs": [
    {
     "name": "stdout",
     "output_type": "stream",
     "text": [
      "6.467443859992416\n"
     ]
    },
    {
     "data": {
      "text/plain": [
       "0.11545300470526931"
      ]
     },
     "execution_count": 33,
     "metadata": {},
     "output_type": "execute_result"
    }
   ],
   "source": [
    "rr = Ridge()\n",
    "\n",
    "rr.fit(X_train,y_train)\n",
    "\n",
    "rr_rms = (mean_squared_error(y_test,rr.predict(X_test))**0.5)\n",
    "print(rr_rms)\n",
    "\n",
    "rr_score = (r2_score(y_test,rr.predict(X_test)))\n",
    "rr_score"
   ]
  },
  {
   "cell_type": "markdown",
   "id": "6ad5efdd",
   "metadata": {},
   "source": [
    "In the above cell, we have created our RidgeRegression model,fitted model with training datasets, used evaluation metrics root_mean_squared_error and r2score to check the effieciency of trained model.And we ended up getting mean_squared_error--6.46 and r2score 0.11545 which can also be respresented as 11.5% which is less than baseline score."
   ]
  },
  {
   "cell_type": "code",
   "execution_count": 34,
   "id": "d72943e8",
   "metadata": {},
   "outputs": [],
   "source": [
    "# reg1 = RidgeCV()\n",
    "# reg1.fit(X_new, y)\n",
    "# print(\"Best alpha using built-in LassoCV: %f\" % reg1.alpha_)\n",
    "# print(\"Best score using built-in LassoCV: %f\" %reg1.score(X_new,y))\n",
    "# coef = pd.Series(reg1.coef_, index = X_new.columns)\n",
    "# coef"
   ]
  },
  {
   "cell_type": "code",
   "execution_count": 35,
   "id": "16287f6a",
   "metadata": {},
   "outputs": [],
   "source": [
    "# rr = Ridge(alpha = 0.1,normalize = True)\n",
    "\n",
    "# rr.fit(X_train,y_train)\n",
    "\n",
    "# rr_rms = (mean_squared_error(y_test,rr.predict(X_test))**0.5)\n",
    "# print(rr_rms)\n",
    "\n",
    "# rr_score = (r2_score(y_test,rr.predict(X_test)))\n",
    "# rr_score"
   ]
  },
  {
   "cell_type": "markdown",
   "id": "1ac14dee",
   "metadata": {},
   "source": [
    "**Lasso Regression**\n",
    "\n",
    "Lasso regression, or the Least Absolute Shrinkage and Selection Operator, is also a modification of linear regression. In Lasso, the loss function is modified to minimize the complexity of the model by limiting the sum of the absolute values of the model coefficients (also called the l1-norm).\n",
    "\n",
    "\n",
    "In the above loss function, alpha is the penalty parameter we need to select. Using an l1 norm constraint forces some weight values to zero to allow other coefficients to take non-zero values.\n",
    "\n",
    "In scikit-learn, a lasso regression model is constructed by using the Lasso class. The first line of code below instantiates the Lasso Regression model. The second line fits the model to the training data.\n",
    "\n",
    "The third line of code predicts, while the fourth and fifth lines print the evaluation metrics - RMSE and R-squared."
   ]
  },
  {
   "cell_type": "code",
   "execution_count": 36,
   "id": "197e6a2a",
   "metadata": {},
   "outputs": [
    {
     "name": "stdout",
     "output_type": "stream",
     "text": [
      "6.611837632185153\n"
     ]
    },
    {
     "data": {
      "text/plain": [
       "0.07551485639119238"
      ]
     },
     "execution_count": 36,
     "metadata": {},
     "output_type": "execute_result"
    }
   ],
   "source": [
    "Lr = Lasso()\n",
    "\n",
    "Lr.fit(X_train,y_train)\n",
    "\n",
    "Lr_rms = (mean_squared_error(y_test,Lr.predict(X_test))**0.5)\n",
    "print(Lr_rms)\n",
    "\n",
    "Lr_score = (r2_score(y_test,Lr.predict(X_test)))\n",
    "Lr_score"
   ]
  },
  {
   "cell_type": "markdown",
   "id": "2b805d7c",
   "metadata": {},
   "source": [
    "In the above 2 cells, we have created our LassoRegression model,fitted model with training datasets, used evaluation metrics root_mean_squared_error and r2score to check the effieciency of trained model.And we ended up getting mean_squared_error--6.61 and r2score 0.075515 which can also be respresented as 7.6% which is less than baseline score."
   ]
  },
  {
   "cell_type": "markdown",
   "id": "d07651a1",
   "metadata": {},
   "source": [
    "# Step 7: - Analyse, modify the parameters and hyper-parameters and repeat (within reason) until the model does not improve\n",
    "\n",
    "Since, we didn't achieve satisfactory results for any of the above created models, we are trying to initialize some more models by using some tuning parameters. "
   ]
  },
  {
   "cell_type": "markdown",
   "id": "7b969566",
   "metadata": {},
   "source": [
    "Using **LassoCV** model to get best alpha to improve model's score"
   ]
  },
  {
   "cell_type": "code",
   "execution_count": 37,
   "id": "a2208233",
   "metadata": {},
   "outputs": [
    {
     "name": "stdout",
     "output_type": "stream",
     "text": [
      "Best alpha using built-in LassoCV: 0.364733\n",
      "Best score using built-in LassoCV: 0.081014\n"
     ]
    },
    {
     "data": {
      "text/plain": [
       "MONTH                              0.033875\n",
       "DAY_OF_MONTH                      -0.019965\n",
       "DAY_OF_WEEK                        0.000000\n",
       "DEP_DELAY                          0.004826\n",
       "CRS_ELAPSED_TIME                   0.026293\n",
       "DISTANCE                          -0.003105\n",
       "CRS_DEP_M                         -0.000042\n",
       "DEP_TIME_M                         0.000944\n",
       "CRS_ARR_M                          0.000402\n",
       "Temperature                       -0.185791\n",
       "Dew Point                          0.110446\n",
       "Humidity                          -0.012349\n",
       "Wind Speed                         0.004754\n",
       "Wind Gust                          0.064357\n",
       "Pressure                          -0.000000\n",
       "sch_dep                            0.117617\n",
       "sch_arr                            0.028197\n",
       "OP_UNIQUE_CARRIER_9E               0.000000\n",
       "OP_UNIQUE_CARRIER_AA              -0.000000\n",
       "OP_UNIQUE_CARRIER_AS               0.000000\n",
       "OP_UNIQUE_CARRIER_B6              -0.000000\n",
       "OP_UNIQUE_CARRIER_DL               0.000000\n",
       "OP_UNIQUE_CARRIER_HA              -0.000000\n",
       "OP_UNIQUE_CARRIER_MQ               0.000000\n",
       "OP_UNIQUE_CARRIER_OO              -0.000000\n",
       "OP_UNIQUE_CARRIER_YX               0.000000\n",
       "Condition_Cloudy                  -0.000000\n",
       "Condition_Cloudy / Windy          -0.000000\n",
       "Condition_Drizzle and Fog          0.000000\n",
       "Condition_Fair                    -0.000000\n",
       "Condition_Fair / Windy            -0.000000\n",
       "Condition_Fog                      0.000000\n",
       "Condition_Fog / Windy             -0.000000\n",
       "Condition_Heavy Rain               0.000000\n",
       "Condition_Heavy Rain / Windy      -0.000000\n",
       "Condition_Light Drizzle            0.000000\n",
       "Condition_Light Drizzle / Windy    0.000000\n",
       "Condition_Light Freezing Rain      0.000000\n",
       "Condition_Light Rain               0.000000\n",
       "Condition_Light Rain / Windy       0.000000\n",
       "Condition_Light Snow               0.000000\n",
       "Condition_Light Snow / Windy       0.000000\n",
       "Condition_Mostly Cloudy           -0.000000\n",
       "Condition_Mostly Cloudy / Windy    0.000000\n",
       "Condition_Partly Cloudy            0.000000\n",
       "Condition_Partly Cloudy / Windy    0.000000\n",
       "Condition_Rain                     0.000000\n",
       "Condition_Rain / Windy             0.000000\n",
       "Condition_Snow                     0.000000\n",
       "Condition_Wintry Mix               0.000000\n",
       "Condition_Wintry Mix / Windy       0.000000\n",
       "dtype: float64"
      ]
     },
     "execution_count": 37,
     "metadata": {},
     "output_type": "execute_result"
    }
   ],
   "source": [
    "reg = LassoCV()\n",
    "reg.fit(X_new, y)\n",
    "print(\"Best alpha using built-in LassoCV: %f\" % reg.alpha_)\n",
    "print(\"Best score using built-in LassoCV: %f\" %reg.score(X_new,y))\n",
    "coef = pd.Series(reg.coef_, index = X_new.columns)\n",
    "coef"
   ]
  },
  {
   "cell_type": "markdown",
   "id": "6d1f03a5",
   "metadata": {},
   "source": [
    "Finding best features based on **coefficients**"
   ]
  },
  {
   "cell_type": "code",
   "execution_count": 38,
   "id": "a2a289a3",
   "metadata": {},
   "outputs": [
    {
     "data": {
      "image/png": "[encoded data removed]",
      "text/plain": [
       "<Figure size 432x288 with 1 Axes>"
      ]
     },
     "metadata": {
      "needs_background": "light"
     },
     "output_type": "display_data"
    }
   ],
   "source": [
    "importance = np.abs(reg.coef_)\n",
    "feature_names = np.array(X_new.columns)\n",
    "plt.bar(height=importance, x=feature_names)\n",
    "plt.title(\"Feature importances via coefficients\")\n",
    "plt.show()"
   ]
  },
  {
   "cell_type": "markdown",
   "id": "567e859d",
   "metadata": {},
   "source": [
    "Since, we are not clear with above listed ones, we are using below models. "
   ]
  },
  {
   "cell_type": "markdown",
   "id": "89746eb4",
   "metadata": {},
   "source": [
    "Performing **feature engineering** by importing **SelectFromModel**"
   ]
  },
  {
   "cell_type": "code",
   "execution_count": 39,
   "id": "b2ab56b2",
   "metadata": {},
   "outputs": [],
   "source": [
    "from sklearn.feature_selection import SelectFromModel\n",
    "from time import time\n",
    "\n",
    "# threshold = np.sort(importance)[-6] - 0.01\n",
    "\n",
    "# tic = time()\n",
    "# sfm = SelectFromModel(reg, threshold=threshold).fit(X_new, y)\n",
    "# toc = time()\n",
    "# print(\"Features selected by SelectFromModel: \"f\"{feature_names[sfm.get_support()]}\")\n",
    "# print(f\"Done in {toc - tic:.3f}s\")"
   ]
  },
  {
   "cell_type": "markdown",
   "id": "8a0446a0",
   "metadata": {},
   "source": [
    "Performing **feature engineering** by importing **SequentialFeatureSelector** \n",
    "\n",
    "Using Linearregression model and trying different number of features in forward direction to improve model's score"
   ]
  },
  {
   "cell_type": "code",
   "execution_count": 40,
   "id": "6b847aa6",
   "metadata": {},
   "outputs": [
    {
     "name": "stdout",
     "output_type": "stream",
     "text": [
      "Features selected by forward sequential selection: ['DEP_DELAY' 'DEP_TIME_M' 'Temperature' 'Dew Point' 'Wind Gust' 'sch_dep'\n",
      " 'sch_arr' 'OP_UNIQUE_CARRIER_AS' 'OP_UNIQUE_CARRIER_B6'\n",
      " 'Condition_Fair / Windy' 'Condition_Fog' 'Condition_Light Rain'\n",
      " 'Condition_Light Snow' 'Condition_Rain' 'Condition_Wintry Mix']\n",
      "Done in 45.474s\n"
     ]
    }
   ],
   "source": [
    "from sklearn.feature_selection import SequentialFeatureSelector\n",
    "\n",
    "tic_fwd = time()\n",
    "sfs_forward = SequentialFeatureSelector(lr, n_features_to_select=15, direction='forward').fit(X_new, y)\n",
    "toc_fwd = time()\n",
    "\n",
    "print(\"Features selected by forward sequential selection: \"f\"{feature_names[sfs_forward.get_support()]}\")\n",
    "print(f\"Done in {toc_fwd - tic_fwd:.3f}s\")"
   ]
  },
  {
   "cell_type": "code",
   "execution_count": 41,
   "id": "93aba2bd",
   "metadata": {},
   "outputs": [
    {
     "name": "stdout",
     "output_type": "stream",
     "text": [
      "6.49101024532557\n"
     ]
    },
    {
     "data": {
      "text/plain": [
       "0.10899494960738076"
      ]
     },
     "execution_count": 41,
     "metadata": {},
     "output_type": "execute_result"
    }
   ],
   "source": [
    "X_15l = X_new[['DEP_DELAY','DEP_TIME_M','Temperature','Dew Point','Wind Gust','sch_dep','sch_arr','OP_UNIQUE_CARRIER_AS','OP_UNIQUE_CARRIER_B6','Condition_Fair / Windy','Condition_Fog','Condition_Light Rain','Condition_Light Snow','Condition_Rain','Condition_Wintry Mix']]\n",
    "\n",
    "X_15l_train,X_15l_test,y_train,y_test = train_test_split(X_15l,y,test_size = 0.2,random_state = 1)\n",
    "\n",
    "\n",
    "lr.fit(X_15l_train,y_train)\n",
    "\n",
    "lr_rms_15l = (mean_squared_error(y_test,lr.predict(X_15l_test))**0.5)\n",
    "print(lr_rms_15l)\n",
    "\n",
    "lr_score_15l = (r2_score(y_test,lr.predict(X_15l_test)))\n",
    "lr_score_15l"
   ]
  },
  {
   "cell_type": "markdown",
   "id": "8ceb2c3d",
   "metadata": {},
   "source": [
    "In the above 2 cells, we have used SequentialFeatureSelector and did feature engineering by selecting top 15 features to increase model's efficiency. So after getting features, we created our LinearRegression model,fitted model with training datasets that contains 15 features, used evaluation metrics root_mean_squared_error and r2score to check the effieciency of trained model.And we ended up getting mean_squared_error--6.49 and r2score--0.10899 which can also be respresented as 10.9% which is less than baseline score."
   ]
  },
  {
   "cell_type": "code",
   "execution_count": 42,
   "id": "cfc43a90",
   "metadata": {},
   "outputs": [
    {
     "name": "stdout",
     "output_type": "stream",
     "text": [
      "Features selected by forward sequential selection: ['DAY_OF_MONTH' 'DAY_OF_WEEK' 'DEP_DELAY' 'DISTANCE' 'DEP_TIME_M'\n",
      " 'Temperature' 'Dew Point' 'Wind Gust' 'sch_dep' 'sch_arr'\n",
      " 'OP_UNIQUE_CARRIER_AA' 'OP_UNIQUE_CARRIER_AS' 'OP_UNIQUE_CARRIER_B6'\n",
      " 'OP_UNIQUE_CARRIER_YX' 'Condition_Cloudy / Windy'\n",
      " 'Condition_Fair / Windy' 'Condition_Fog' 'Condition_Fog / Windy'\n",
      " 'Condition_Heavy Rain' 'Condition_Light Rain'\n",
      " 'Condition_Light Rain / Windy' 'Condition_Light Snow'\n",
      " 'Condition_Partly Cloudy / Windy' 'Condition_Rain' 'Condition_Wintry Mix']\n",
      "Done in 97.614s\n"
     ]
    }
   ],
   "source": [
    "tic_fwd = time()\n",
    "sfs_forward = SequentialFeatureSelector(lr, n_features_to_select=25, direction='forward').fit(X_new, y)\n",
    "toc_fwd = time()\n",
    "\n",
    "print(\"Features selected by forward sequential selection: \"f\"{feature_names[sfs_forward.get_support()]}\")\n",
    "print(f\"Done in {toc_fwd - tic_fwd:.3f}s\")"
   ]
  },
  {
   "cell_type": "code",
   "execution_count": 43,
   "id": "3647628e",
   "metadata": {},
   "outputs": [
    {
     "name": "stdout",
     "output_type": "stream",
     "text": [
      "6.484625883677805\n"
     ]
    },
    {
     "data": {
      "text/plain": [
       "0.11074681895872984"
      ]
     },
     "execution_count": 43,
     "metadata": {},
     "output_type": "execute_result"
    }
   ],
   "source": [
    "X_25l = X_new[['DAY_OF_MONTH','DAY_OF_WEEK','DEP_DELAY','DISTANCE','DEP_TIME_M','Temperature','Dew Point','Wind Gust','sch_dep','sch_arr','OP_UNIQUE_CARRIER_AA','OP_UNIQUE_CARRIER_AS','OP_UNIQUE_CARRIER_B6','OP_UNIQUE_CARRIER_YX','Condition_Cloudy / Windy','Condition_Fair / Windy','Condition_Fog','Condition_Fog / Windy','Condition_Heavy Rain','Condition_Light Rain','Condition_Light Rain / Windy','Condition_Light Snow','Condition_Partly Cloudy / Windy','Condition_Rain','Condition_Wintry Mix']]\n",
    "\n",
    "X_25l_train,X_25l_test,y_train,y_test = train_test_split(X_25l,y,test_size = 0.2,random_state = 1)\n",
    "\n",
    "\n",
    "lr.fit(X_25l_train,y_train)\n",
    "\n",
    "lr_rms_25l = (mean_squared_error(y_test,lr.predict(X_25l_test))**0.5)\n",
    "print(lr_rms_25l)\n",
    "\n",
    "lr_score_25l = (r2_score(y_test,lr.predict(X_25l_test)))\n",
    "lr_score_25l"
   ]
  },
  {
   "cell_type": "markdown",
   "id": "e0786190",
   "metadata": {},
   "source": [
    "In the above 2 cells, we have used SequentialFeatureSelector and did feature engineering by selecting top 25 features to increase model's efficiency. So after getting features, we created our LinearRegression model,fitted model with training datasets that contains 25 features, used evaluation metrics root_mean_squared_error and r2score to check the effieciency of trained model.And we ended up getting mean_squared_error--6.48 and r2score--0.110747 which can also be respresented as 11% which is less than baseline score."
   ]
  },
  {
   "cell_type": "code",
   "execution_count": 44,
   "id": "28159f0f",
   "metadata": {},
   "outputs": [
    {
     "name": "stdout",
     "output_type": "stream",
     "text": [
      "Features selected by backward sequential selection: ['DEP_DELAY' 'DISTANCE' 'DEP_TIME_M' 'Temperature' 'Dew Point' 'Wind Gust'\n",
      " 'sch_dep' 'sch_arr' 'OP_UNIQUE_CARRIER_9E' 'OP_UNIQUE_CARRIER_AA'\n",
      " 'OP_UNIQUE_CARRIER_AS' 'OP_UNIQUE_CARRIER_DL' 'OP_UNIQUE_CARRIER_MQ'\n",
      " 'OP_UNIQUE_CARRIER_YX' 'Condition_Cloudy' 'Condition_Cloudy / Windy'\n",
      " 'Condition_Fair' 'Condition_Fair / Windy' 'Condition_Light Rain'\n",
      " 'Condition_Light Snow' 'Condition_Mostly Cloudy'\n",
      " 'Condition_Mostly Cloudy / Windy' 'Condition_Partly Cloudy'\n",
      " 'Condition_Partly Cloudy / Windy' 'Condition_Wintry Mix']\n",
      "Done in 315.615s\n"
     ]
    }
   ],
   "source": [
    "tic_fwd = time()\n",
    "sfs_backward = SequentialFeatureSelector(lr, n_features_to_select=25, direction='backward').fit(X_new, y)\n",
    "toc_fwd = time()\n",
    "\n",
    "print(\"Features selected by backward sequential selection: \"f\"{feature_names[sfs_backward.get_support()]}\")\n",
    "print(f\"Done in {toc_fwd - tic_fwd:.3f}s\")"
   ]
  },
  {
   "cell_type": "code",
   "execution_count": 45,
   "id": "690171ff",
   "metadata": {},
   "outputs": [
    {
     "name": "stdout",
     "output_type": "stream",
     "text": [
      "6.487033061340127\n"
     ]
    },
    {
     "data": {
      "text/plain": [
       "0.11008649167401507"
      ]
     },
     "execution_count": 45,
     "metadata": {},
     "output_type": "execute_result"
    }
   ],
   "source": [
    "X_25bl = X_new[['DEP_DELAY','DISTANCE','DEP_TIME_M','Temperature','Dew Point','Wind Gust','sch_dep','sch_arr','OP_UNIQUE_CARRIER_9E','OP_UNIQUE_CARRIER_AA','OP_UNIQUE_CARRIER_AS','OP_UNIQUE_CARRIER_DL','OP_UNIQUE_CARRIER_MQ','OP_UNIQUE_CARRIER_YX','Condition_Cloudy','Condition_Cloudy / Windy','Condition_Fair','Condition_Fair / Windy','Condition_Light Rain','Condition_Light Snow','Condition_Mostly Cloudy','Condition_Mostly Cloudy / Windy','Condition_Partly Cloudy','Condition_Partly Cloudy / Windy','Condition_Wintry Mix']]\n",
    "\n",
    "X_25bl_train,X_25bl_test,y_train,y_test = train_test_split(X_25bl,y,test_size = 0.2,random_state = 1)\n",
    "\n",
    "\n",
    "lr.fit(X_25bl_train,y_train)\n",
    "\n",
    "lr_rms_25bl = (mean_squared_error(y_test,lr.predict(X_25bl_test))**0.5)\n",
    "print(lr_rms_25bl)\n",
    "\n",
    "lr_score_25bl = (r2_score(y_test,lr.predict(X_25bl_test)))\n",
    "lr_score_25bl"
   ]
  },
  {
   "cell_type": "markdown",
   "id": "915d85b8",
   "metadata": {},
   "source": [
    "Using **RidgeRegression** and trying different **number of features** in **forward** direction to improve model's score"
   ]
  },
  {
   "cell_type": "code",
   "execution_count": 46,
   "id": "d69f0150",
   "metadata": {},
   "outputs": [
    {
     "name": "stdout",
     "output_type": "stream",
     "text": [
      "Features selected by forward sequential selection: ['Wind Gust' 'sch_dep' 'OP_UNIQUE_CARRIER_AS' 'OP_UNIQUE_CARRIER_B6'\n",
      " 'Condition_Light Snow']\n",
      "Done in 18.147s\n"
     ]
    }
   ],
   "source": [
    "from sklearn.linear_model import RidgeCV\n",
    "\n",
    "ridge = RidgeCV()\n",
    "\n",
    "tic_fwd = time()\n",
    "sfs_forward = SequentialFeatureSelector(ridge, n_features_to_select=5,direction='forward').fit(X_new, y)\n",
    "toc_fwd = time()\n",
    "\n",
    "print(\"Features selected by forward sequential selection: \"f\"{feature_names[sfs_forward.get_support()]}\")\n",
    "print(f\"Done in {toc_fwd - tic_fwd:.3f}s\")"
   ]
  },
  {
   "cell_type": "code",
   "execution_count": 47,
   "id": "c288ee30",
   "metadata": {},
   "outputs": [
    {
     "name": "stdout",
     "output_type": "stream",
     "text": [
      "6.606791957918872\n"
     ]
    },
    {
     "data": {
      "text/plain": [
       "0.07692531783827361"
      ]
     },
     "execution_count": 47,
     "metadata": {},
     "output_type": "execute_result"
    }
   ],
   "source": [
    "X_5r = X_new[['Wind Gust','sch_dep','OP_UNIQUE_CARRIER_AS','OP_UNIQUE_CARRIER_B6','Condition_Light Snow']]\n",
    "\n",
    "X_5r_train,X_5r_test,y_train,y_test = train_test_split(X_5r,y,test_size = 0.2,random_state = 1)\n",
    "\n",
    "rr = Ridge()\n",
    "\n",
    "rr.fit(X_5r_train,y_train)\n",
    "\n",
    "rr_rms_5r = (mean_squared_error(y_test,rr.predict(X_5r_test))**0.5)\n",
    "print(rr_rms_5r)\n",
    "\n",
    "rr_score_5r = (r2_score(y_test,rr.predict(X_5r_test)))\n",
    "rr_score_5r"
   ]
  },
  {
   "cell_type": "markdown",
   "id": "9a15a021",
   "metadata": {},
   "source": [
    "In the above 2 cells, we have used SequentialFeatureSelector and did feature engineering by selecting top 5 features to increase model's efficiency. So after getting features, we created our RidgeRegression model,fitted model with training datasets that contains 5 features, used evaluation metrics root_mean_squared_error and r2score to check the effieciency of trained model.And we ended up getting mean_squared_error--6.607 and r2score--0.0769 which can also be respresented as 7.7% which is less than baseline score."
   ]
  },
  {
   "cell_type": "code",
   "execution_count": 48,
   "id": "f4836bfe",
   "metadata": {},
   "outputs": [
    {
     "name": "stdout",
     "output_type": "stream",
     "text": [
      "Features selected by forward sequential selection: ['DEP_DELAY' 'DEP_TIME_M' 'Temperature' 'Dew Point' 'Wind Gust' 'sch_dep'\n",
      " 'sch_arr' 'OP_UNIQUE_CARRIER_AS' 'OP_UNIQUE_CARRIER_B6'\n",
      " 'Condition_Fair / Windy' 'Condition_Fog' 'Condition_Light Rain'\n",
      " 'Condition_Light Snow' 'Condition_Rain' 'Condition_Wintry Mix']\n",
      "Done in 97.093s\n"
     ]
    }
   ],
   "source": [
    "tic_fwd = time()\n",
    "sfs_forward = SequentialFeatureSelector(ridge, n_features_to_select=15,\n",
    "                                        direction='forward').fit(X_new, y)\n",
    "toc_fwd = time()\n",
    "\n",
    "print(\"Features selected by forward sequential selection: \"f\"{feature_names[sfs_forward.get_support()]}\")\n",
    "print(f\"Done in {toc_fwd - tic_fwd:.3f}s\")"
   ]
  },
  {
   "cell_type": "code",
   "execution_count": 49,
   "id": "bd4386df",
   "metadata": {},
   "outputs": [
    {
     "name": "stdout",
     "output_type": "stream",
     "text": [
      "6.49091780732793\n"
     ]
    },
    {
     "data": {
      "text/plain": [
       "0.10902032690095187"
      ]
     },
     "execution_count": 49,
     "metadata": {},
     "output_type": "execute_result"
    }
   ],
   "source": [
    "X_15r = X_new[['DEP_DELAY','DEP_TIME_M','Temperature','Dew Point','Wind Gust','sch_dep','sch_arr','OP_UNIQUE_CARRIER_AS','OP_UNIQUE_CARRIER_B6','Condition_Fair / Windy','Condition_Fog','Condition_Light Rain','Condition_Light Snow','Condition_Rain','Condition_Wintry Mix']]\n",
    "\n",
    "X_15r_train,X_15r_test,y_train,y_test = train_test_split(X_15r,y,test_size = 0.2,random_state = 1)\n",
    "\n",
    "rr = Ridge()\n",
    "\n",
    "rr.fit(X_15r_train,y_train)\n",
    "\n",
    "rr_rms_15r = (mean_squared_error(y_test,rr.predict(X_15r_test))**0.5)\n",
    "print(rr_rms_15r)\n",
    "\n",
    "rr_score_15r = (r2_score(y_test,rr.predict(X_15r_test)))\n",
    "rr_score_15r"
   ]
  },
  {
   "cell_type": "markdown",
   "id": "bba8a038",
   "metadata": {},
   "source": [
    "In the above 2 cells, we have used SequentialFeatureSelector and did feature engineering by selecting top 15 features to increase model's efficiency. So after getting features, we created our RidgeRegression model,fitted model with training datasets that contains 15 features, used evaluation metrics root_mean_squared_error and r2score to check the effieciency of trained model.And we ended up getting mean_squared_error--6.49 and r2score--0.10902 which can also be respresented as 10.9% which is less than baseline score."
   ]
  },
  {
   "cell_type": "code",
   "execution_count": 50,
   "id": "dabe5c27",
   "metadata": {},
   "outputs": [
    {
     "name": "stdout",
     "output_type": "stream",
     "text": [
      "Features selected by forward sequential selection: ['DAY_OF_MONTH' 'DAY_OF_WEEK' 'DEP_DELAY' 'DISTANCE' 'DEP_TIME_M'\n",
      " 'Temperature' 'Dew Point' 'Wind Gust' 'sch_dep' 'sch_arr'\n",
      " 'OP_UNIQUE_CARRIER_AA' 'OP_UNIQUE_CARRIER_AS' 'OP_UNIQUE_CARRIER_B6'\n",
      " 'OP_UNIQUE_CARRIER_YX' 'Condition_Fair / Windy' 'Condition_Fog'\n",
      " 'Condition_Fog / Windy' 'Condition_Heavy Rain'\n",
      " 'Condition_Light Freezing Rain' 'Condition_Light Rain'\n",
      " 'Condition_Light Rain / Windy' 'Condition_Light Snow'\n",
      " 'Condition_Partly Cloudy / Windy' 'Condition_Rain' 'Condition_Wintry Mix']\n",
      "Done in 217.122s\n"
     ]
    }
   ],
   "source": [
    "tic_fwd = time()\n",
    "sfs_forward = SequentialFeatureSelector(ridge, n_features_to_select=25, direction='forward').fit(X_new, y)\n",
    "toc_fwd = time()\n",
    "\n",
    "print(\"Features selected by forward sequential selection: \"f\"{feature_names[sfs_forward.get_support()]}\")\n",
    "print(f\"Done in {toc_fwd - tic_fwd:.3f}s\")"
   ]
  },
  {
   "cell_type": "code",
   "execution_count": 51,
   "id": "351ced59",
   "metadata": {},
   "outputs": [
    {
     "name": "stdout",
     "output_type": "stream",
     "text": [
      "6.48471148284267\n"
     ]
    },
    {
     "data": {
      "text/plain": [
       "0.11072334194296507"
      ]
     },
     "execution_count": 51,
     "metadata": {},
     "output_type": "execute_result"
    }
   ],
   "source": [
    "X_25r = X_new[['DAY_OF_MONTH','DAY_OF_WEEK','DEP_DELAY','DISTANCE','DEP_TIME_M','Temperature','Dew Point','Wind Gust','sch_dep','sch_arr','OP_UNIQUE_CARRIER_AA','OP_UNIQUE_CARRIER_AS','OP_UNIQUE_CARRIER_B6','OP_UNIQUE_CARRIER_YX','Condition_Fair / Windy','Condition_Fog','Condition_Fog / Windy','Condition_Heavy Rain','Condition_Light Freezing Rain','Condition_Light Rain','Condition_Light Rain / Windy','Condition_Light Snow','Condition_Partly Cloudy / Windy','Condition_Rain','Condition_Wintry Mix']]\n",
    "\n",
    "X_25r_train,X_25r_test,y_train,y_test = train_test_split(X_25r,y,test_size = 0.2,random_state = 1)\n",
    "\n",
    "rr = Ridge()\n",
    "\n",
    "rr.fit(X_25r_train,y_train)\n",
    "\n",
    "rr_rms_25r = (mean_squared_error(y_test,rr.predict(X_25r_test))**0.5)\n",
    "print(rr_rms_25r)\n",
    "\n",
    "rr_score_25r = (r2_score(y_test,rr.predict(X_25r_test)))\n",
    "rr_score_25r"
   ]
  },
  {
   "cell_type": "markdown",
   "id": "d75bc390",
   "metadata": {},
   "source": [
    "In the above 2 cells, we have used SequentialFeatureSelector and did feature engineering by selecting top 25 features to increase model's efficiency. So after getting features, we created our RidgeRegression model,fitted model with training datasets that contains 25 features, used evaluation metrics root_mean_squared_error and r2score to check the effieciency of trained model.And we ended up getting mean_squared_error--6.48 and r2score--0.11072 which can also be respresented as 11.07% which is less than baseline score."
   ]
  },
  {
   "cell_type": "code",
   "execution_count": 52,
   "id": "d34cbe1c",
   "metadata": {},
   "outputs": [
    {
     "name": "stdout",
     "output_type": "stream",
     "text": [
      "Features selected by forward sequential selection: ['DAY_OF_MONTH' 'DAY_OF_WEEK' 'DEP_DELAY' 'DISTANCE' 'DEP_TIME_M'\n",
      " 'CRS_ARR_M' 'Temperature' 'Dew Point' 'Humidity' 'Wind Gust' 'sch_dep'\n",
      " 'sch_arr' 'OP_UNIQUE_CARRIER_AA' 'OP_UNIQUE_CARRIER_AS'\n",
      " 'OP_UNIQUE_CARRIER_B6' 'OP_UNIQUE_CARRIER_DL' 'OP_UNIQUE_CARRIER_HA'\n",
      " 'OP_UNIQUE_CARRIER_YX' 'Condition_Cloudy' 'Condition_Cloudy / Windy'\n",
      " 'Condition_Fair' 'Condition_Fair / Windy' 'Condition_Fog'\n",
      " 'Condition_Fog / Windy' 'Condition_Heavy Rain'\n",
      " 'Condition_Heavy Rain / Windy' 'Condition_Light Drizzle / Windy'\n",
      " 'Condition_Light Freezing Rain' 'Condition_Light Rain'\n",
      " 'Condition_Light Rain / Windy' 'Condition_Light Snow'\n",
      " 'Condition_Partly Cloudy / Windy' 'Condition_Rain' 'Condition_Wintry Mix'\n",
      " 'Condition_Wintry Mix / Windy']\n",
      "Done in 340.127s\n"
     ]
    }
   ],
   "source": [
    "tic_fwd = time()\n",
    "sfs_forward = SequentialFeatureSelector(ridge, n_features_to_select=35, direction='forward').fit(X_new, y)\n",
    "toc_fwd = time()\n",
    "\n",
    "print(\"Features selected by forward sequential selection: \"f\"{feature_names[sfs_forward.get_support()]}\")\n",
    "print(f\"Done in {toc_fwd - tic_fwd:.3f}s\")"
   ]
  },
  {
   "cell_type": "code",
   "execution_count": 53,
   "id": "0dd86830",
   "metadata": {},
   "outputs": [
    {
     "name": "stdout",
     "output_type": "stream",
     "text": [
      "6.475401297239412\n"
     ]
    },
    {
     "data": {
      "text/plain": [
       "0.11327500130020973"
      ]
     },
     "execution_count": 53,
     "metadata": {},
     "output_type": "execute_result"
    }
   ],
   "source": [
    "X_35r = X_new[['DAY_OF_MONTH','DAY_OF_WEEK','DEP_DELAY','DISTANCE','DEP_TIME_M','CRS_ARR_M','Temperature','Dew Point','Humidity','Wind Gust','sch_dep','sch_arr','OP_UNIQUE_CARRIER_AA','OP_UNIQUE_CARRIER_AS','OP_UNIQUE_CARRIER_B6','OP_UNIQUE_CARRIER_DL','OP_UNIQUE_CARRIER_HA','OP_UNIQUE_CARRIER_YX','Condition_Cloudy','Condition_Cloudy / Windy','Condition_Fair','Condition_Fair / Windy','Condition_Fog','Condition_Fog / Windy','Condition_Heavy Rain','Condition_Heavy Rain / Windy','Condition_Light Drizzle / Windy','Condition_Light Freezing Rain','Condition_Light Rain','Condition_Light Rain / Windy','Condition_Light Snow','Condition_Partly Cloudy / Windy','Condition_Rain','Condition_Wintry Mix','Condition_Wintry Mix / Windy']]\n",
    "\n",
    "X_35r_train,X_35r_test,y_train,y_test = train_test_split(X_35r,y,test_size = 0.2,random_state = 1)\n",
    "\n",
    "rr = Ridge()\n",
    "\n",
    "rr.fit(X_35r_train,y_train)\n",
    "\n",
    "rr_rms_35r = (mean_squared_error(y_test,rr.predict(X_35r_test))**0.5)\n",
    "print(rr_rms_35r)\n",
    "\n",
    "rr_score_35r = (r2_score(y_test,rr.predict(X_35r_test)))\n",
    "rr_score_35r"
   ]
  },
  {
   "cell_type": "markdown",
   "id": "d8a61d5c",
   "metadata": {},
   "source": [
    "In the above 2 cells, we have used SequentialFeatureSelector and did feature engineering by selecting top 35 features to increase model's efficiency. So after getting features, we created our RidgeRegression model,fitted model with training datasets that contains 35 features, used evaluation metrics root_mean_squared_error and r2score to check the effieciency of trained model.And we ended up getting mean_squared_error--6.47 and r2score--0.11327 which can also be respresented as 11.32% which is less than baseline score."
   ]
  },
  {
   "cell_type": "markdown",
   "id": "25e4152b",
   "metadata": {},
   "source": [
    "Using **LassoRegression** and trying different **number of features** in **forward** direction to improve model'score "
   ]
  },
  {
   "cell_type": "code",
   "execution_count": 54,
   "id": "b541f32b",
   "metadata": {},
   "outputs": [
    {
     "name": "stdout",
     "output_type": "stream",
     "text": [
      "Features selected by forward sequential selection: ['Wind Gust' 'sch_dep' 'OP_UNIQUE_CARRIER_AS' 'OP_UNIQUE_CARRIER_B6'\n",
      " 'Condition_Light Snow']\n",
      "Done in 264.754s\n"
     ]
    }
   ],
   "source": [
    "from sklearn.feature_selection import SequentialFeatureSelector\n",
    "\n",
    "tic_fwd = time()\n",
    "sfs_forward = SequentialFeatureSelector(reg, n_features_to_select=5,direction='forward').fit(X_new, y)\n",
    "toc_fwd = time()\n",
    "\n",
    "# tic_bwd = time()\n",
    "# sfs_backward = SequentialFeatureSelector(reg, n_features_to_select=2,\n",
    "#                                          direction='backward').fit(X_new, y)\n",
    "# toc_bwd = time()\n",
    "\n",
    "print(\"Features selected by forward sequential selection: \"\n",
    "      f\"{feature_names[sfs_forward.get_support()]}\")\n",
    "print(f\"Done in {toc_fwd - tic_fwd:.3f}s\")\n",
    "# print(\"Features selected by backward sequential selection: \"\n",
    "#       f\"{feature_names[sfs_backward.get_support()]}\")\n",
    "# print(f\"Done in {toc_bwd - tic_bwd:.3f}s\")"
   ]
  },
  {
   "cell_type": "code",
   "execution_count": 55,
   "id": "60dc4e39",
   "metadata": {},
   "outputs": [
    {
     "name": "stdout",
     "output_type": "stream",
     "text": [
      "Features selected by forward sequential selection: ['DAY_OF_MONTH' 'DEP_DELAY' 'Temperature' 'Dew Point' 'Wind Gust'\n",
      " 'sch_dep' 'sch_arr' 'OP_UNIQUE_CARRIER_AS' 'OP_UNIQUE_CARRIER_B6'\n",
      " 'Condition_Fair / Windy' 'Condition_Fog' 'Condition_Light Rain'\n",
      " 'Condition_Light Snow' 'Condition_Rain' 'Condition_Wintry Mix']\n",
      "Done in 771.249s\n"
     ]
    }
   ],
   "source": [
    "tic_fwd = time()\n",
    "sfs_forward = SequentialFeatureSelector(reg, n_features_to_select=15,direction='forward').fit(X_new, y)\n",
    "toc_fwd = time()\n",
    "\n",
    "# tic_bwd = time()\n",
    "# sfs_backward = SequentialFeatureSelector(reg, n_features_to_select=2,\n",
    "#                                          direction='backward').fit(X_new, y)\n",
    "# toc_bwd = time()\n",
    "\n",
    "print(\"Features selected by forward sequential selection: \"\n",
    "      f\"{feature_names[sfs_forward.get_support()]}\")\n",
    "print(f\"Done in {toc_fwd - tic_fwd:.3f}s\")\n",
    "# print(\"Features selected by backward sequential selection: \"\n",
    "#       f\"{feature_names[sfs_backward.get_support()]}\")\n",
    "# print(f\"Done in {toc_bwd - tic_bwd:.3f}s\")"
   ]
  },
  {
   "cell_type": "code",
   "execution_count": 56,
   "id": "bf2400b0",
   "metadata": {},
   "outputs": [
    {
     "name": "stdout",
     "output_type": "stream",
     "text": [
      "6.638409159928251\n"
     ]
    },
    {
     "data": {
      "text/plain": [
       "0.06806931865900123"
      ]
     },
     "execution_count": 56,
     "metadata": {},
     "output_type": "execute_result"
    }
   ],
   "source": [
    "X_15f = X_new[['DAY_OF_MONTH','DEP_DELAY','Temperature','Dew Point','Wind Gust','sch_dep','sch_arr','OP_UNIQUE_CARRIER_AS','OP_UNIQUE_CARRIER_B6','Condition_Fair / Windy','Condition_Fog','Condition_Light Rain','Condition_Light Snow','Condition_Rain','Condition_Wintry Mix']]\n",
    "\n",
    "X_15f_train,X_15f_test,y_train,y_test = train_test_split(X_15f,y,test_size = 0.2,random_state = 1)\n",
    "\n",
    "Lr = Lasso()\n",
    "\n",
    "Lr.fit(X_15f_train,y_train)\n",
    "\n",
    "Lr_rms_15f = (mean_squared_error(y_test,Lr.predict(X_15f_test))**0.5)\n",
    "print(Lr_rms_15f)\n",
    "\n",
    "Lr_score_15f = (r2_score(y_test,Lr.predict(X_15f_test)))\n",
    "Lr_score_15f"
   ]
  },
  {
   "cell_type": "markdown",
   "id": "3252aecf",
   "metadata": {},
   "source": [
    "In the above 2 cells, we have used SequentialFeatureSelector and did feature engineering by selecting top 15 features to increase model's efficiency. So after getting features, we created our LassoRegression model,fitted model with training datasets that contains 15 features, used evaluation metrics root_mean_squared_error and r2score to check the effieciency of trained model.And we ended up getting mean_squared_error--6.64 and r2score--0.0681 which can also be respresented as 6.8% which is less than baseline score."
   ]
  },
  {
   "cell_type": "code",
   "execution_count": 57,
   "id": "5f0b222d",
   "metadata": {},
   "outputs": [
    {
     "name": "stdout",
     "output_type": "stream",
     "text": [
      "Features selected by forward sequential selection: ['DAY_OF_MONTH' 'DAY_OF_WEEK' 'DEP_DELAY' 'Temperature' 'Dew Point'\n",
      " 'Humidity' 'Wind Gust' 'sch_dep' 'sch_arr' 'OP_UNIQUE_CARRIER_AA'\n",
      " 'OP_UNIQUE_CARRIER_AS' 'OP_UNIQUE_CARRIER_B6' 'OP_UNIQUE_CARRIER_YX'\n",
      " 'Condition_Cloudy' 'Condition_Fair' 'Condition_Fair / Windy'\n",
      " 'Condition_Fog' 'Condition_Fog / Windy' 'Condition_Heavy Rain'\n",
      " 'Condition_Heavy Rain / Windy' 'Condition_Light Rain'\n",
      " 'Condition_Light Rain / Windy' 'Condition_Light Snow' 'Condition_Rain'\n",
      " 'Condition_Wintry Mix']\n",
      "Done in 1233.930s\n"
     ]
    }
   ],
   "source": [
    "tic_fwd = time()\n",
    "sfs_forward = SequentialFeatureSelector(reg, n_features_to_select=25,direction='forward').fit(X_new, y)\n",
    "toc_fwd = time()\n",
    "\n",
    "print(\"Features selected by forward sequential selection: \"f\"{feature_names[sfs_forward.get_support()]}\")\n",
    "print(f\"Done in {toc_fwd - tic_fwd:.3f}s\")\n"
   ]
  },
  {
   "cell_type": "code",
   "execution_count": 58,
   "id": "42a9a6e8",
   "metadata": {},
   "outputs": [
    {
     "name": "stdout",
     "output_type": "stream",
     "text": [
      "6.633311495908195\n"
     ]
    },
    {
     "data": {
      "text/plain": [
       "0.06950003657918213"
      ]
     },
     "execution_count": 58,
     "metadata": {},
     "output_type": "execute_result"
    }
   ],
   "source": [
    "X_25f = X_new[['DAY_OF_MONTH','DAY_OF_WEEK','DEP_DELAY','Temperature','Dew Point','Humidity','Wind Gust','sch_dep','sch_arr','OP_UNIQUE_CARRIER_AA','OP_UNIQUE_CARRIER_AS','OP_UNIQUE_CARRIER_B6','OP_UNIQUE_CARRIER_YX','Condition_Cloudy','Condition_Fair','Condition_Fair / Windy','Condition_Fog','Condition_Fog / Windy','Condition_Heavy Rain','Condition_Heavy Rain / Windy','Condition_Light Rain','Condition_Light Rain / Windy','Condition_Light Snow','Condition_Rain','Condition_Wintry Mix']]\n",
    "\n",
    "X_25f_train,X_25f_test,y_train,y_test = train_test_split(X_25f,y,test_size = 0.2,random_state = 1)\n",
    "\n",
    "Lr = Lasso()\n",
    "\n",
    "Lr.fit(X_25f_train,y_train)\n",
    "\n",
    "Lr_rms_25f = (mean_squared_error(y_test,Lr.predict(X_25f_test))**0.5)\n",
    "print(Lr_rms_25f)\n",
    "\n",
    "Lr_score_25f = (r2_score(y_test,Lr.predict(X_25f_test)))\n",
    "Lr_score_25f"
   ]
  },
  {
   "cell_type": "markdown",
   "id": "9eaf315a",
   "metadata": {},
   "source": [
    "In the above 2 cells, we have used SequentialFeatureSelector and did feature engineering by selecting top 25 features to increase model's efficiency. So after getting features, we created our LassorRegression model,fitted model with training datasets that contains 25 features, used evaluation metrics root_mean_squared_error and r2score to check the effieciency of trained model.And we ended up getting mean_squared_error--6.63 and r2score--0.069500 which can also be respresented as 6.9% which is less than baseline score."
   ]
  },
  {
   "cell_type": "code",
   "execution_count": 59,
   "id": "b74875a7",
   "metadata": {},
   "outputs": [],
   "source": [
    "# from sklearn.neighbors import KNeighborsRegressor\n",
    "\n",
    "# neigh = KNeighborsRegressor(n_neighbors=2)\n",
    "# neigh.fit(X_new, y)\n",
    "# KNeighborsRegressor(...)\n",
    "# print(neigh.predict([[1.5]]))"
   ]
  },
  {
   "cell_type": "code",
   "execution_count": 60,
   "id": "7aafa680",
   "metadata": {},
   "outputs": [],
   "source": [
    "# from sklearn.model_selection import GridSearchCV\n",
    "# from sklearn.neighbors import KNeighborsRegressor\n",
    "\n",
    "# params = {'n_neighbors':[2,3,4,5,6,7,8,9,10,15,20,24,25]}\n",
    "\n",
    "# knn = KNeighborsRegressor()\n",
    "\n",
    "# model = GridSearchCV(knn, params, cv=5)\n",
    "# model.fit(X_train,y_train)\n",
    "# model.best_params_"
   ]
  },
  {
   "cell_type": "code",
   "execution_count": 61,
   "id": "f8ce4dd2",
   "metadata": {},
   "outputs": [],
   "source": [
    "# knn = KNeighborsRegressor(n_neighbors = 25)\n",
    "# model.fit(X_train,y_train)\n",
    "# y_preds = model.predict(X_test)\n",
    "# mse = mean_squared_error(y_test, y_preds)\n",
    "# rmse = (mse) ** 0.5\n",
    "# print(rmse)\n",
    "# score= (r2_score(y_test,y_preds))\n",
    "# score"
   ]
  },
  {
   "cell_type": "code",
   "execution_count": 62,
   "id": "5d4ae8da",
   "metadata": {},
   "outputs": [],
   "source": [
    "# knn = KNeighborsRegressor(n_neighbors = 9)\n",
    "# model.fit(X_train,y_train)\n",
    "# y_preds = model.predict(X_test)\n",
    "# mse = mean_squared_error(y_test, y_preds)\n",
    "# rmse = (mse) ** 0.5\n",
    "# print(rmse)\n",
    "# score= (r2_score(y_test,y_preds))\n",
    "# score"
   ]
  },
  {
   "cell_type": "code",
   "execution_count": 63,
   "id": "ce3d21d8",
   "metadata": {},
   "outputs": [],
   "source": [
    "# #Instantiate the estimator - LogisticRegression\n",
    "\n",
    "\n",
    "# lr = LinearRegression(C=1.0, random_state=1)\n",
    "# #\n",
    "# # Number of features\n",
    "\n",
    "# k_features = 15\n",
    "\n",
    "# # Instantiate SequentialBackwardSearch\n",
    "\n",
    "# sfs = SequentialFeatureSelector(lr, k_features)\n",
    "\n",
    "# # Fit the data to determine the k_features which give the\n",
    "# # most optimal model performance\n",
    "\n",
    "# sfs.fit(X_train, X_test, y_train, y_test)\n",
    "\n",
    "# # Transform the training data set to dataset having k_features\n",
    "# # giving most optimal model performance\n",
    "\n",
    "# X_train_sfs = sfs.transform(X_train)\n",
    "\n",
    "# #Transform the test data set to dataset having k_features\n",
    "\n",
    "# X_test_sfs = sfs.transform(X_test)"
   ]
  },
  {
   "cell_type": "code",
   "execution_count": 64,
   "id": "a83cec89",
   "metadata": {},
   "outputs": [],
   "source": [
    "# k_features = [len(k) for k in sfs.subsets_]\n",
    "# plt.plot(k_features, sfs.scores_, marker='o')\n",
    "# plt.ylim([0.01, 1.00])\n",
    "# plt.ylabel('Accuracy')\n",
    "# plt.xlabel('Number of features')\n",
    "# plt.grid()\n",
    "# plt.tight_layout()\n",
    "# plt.show()"
   ]
  },
  {
   "cell_type": "markdown",
   "id": "7724e92a",
   "metadata": {},
   "source": []
  },
  {
   "cell_type": "code",
   "execution_count": 65,
   "id": "b44fa4f1",
   "metadata": {},
   "outputs": [
    {
     "name": "stdout",
     "output_type": "stream",
     "text": [
      "6.6060285014293765\n"
     ]
    },
    {
     "data": {
      "text/plain": [
       "0.07713863971764512"
      ]
     },
     "execution_count": 65,
     "metadata": {},
     "output_type": "execute_result"
    }
   ],
   "source": [
    "from sklearn import preprocessing\n",
    "\n",
    "X_15r = X_new[['DEP_DELAY','DEP_TIME_M','Temperature','Dew Point','Wind Gust','sch_dep','sch_arr','OP_UNIQUE_CARRIER_AS','OP_UNIQUE_CARRIER_B6','Condition_Fair / Windy','Condition_Fog','Condition_Light Rain','Condition_Light Snow','Condition_Rain','Condition_Wintry Mix']]\n",
    "\n",
    "X_15r_train,X_15r_test,y_train,y_test = train_test_split(X_15r,y,test_size = 0.2,random_state = 1)\n",
    "\n",
    "rr = Ridge(normalize = True)\n",
    "\n",
    "\n",
    "rr.fit(X_15r_train,y_train)\n",
    "\n",
    "rr_rms_15r = (mean_squared_error(y_test,rr.predict(X_15r_test))**0.5)\n",
    "print(rr_rms_15r)\n",
    "\n",
    "rr_score_15r = (r2_score(y_test,rr.predict(X_15r_test)))\n",
    "rr_score_15r"
   ]
  },
  {
   "cell_type": "markdown",
   "id": "18cebe27",
   "metadata": {},
   "source": [
    "Using **GradientBoostingRegressor** to find score\n",
    "\n",
    "\"Boosting\" in machine learning is a way of combining multiple simple models into a single composite model. This is also why boosting is known as an additive model, since simple models (also known as weak learners) are added one at a time, while keeping existing trees in the model unchanged. As we combine more and more simple models, the complete final model becomes a stronger predictor. The term \"gradient\" in \"gradient boosting\" comes from the fact that the algorithm uses gradient descent to minimize the loss."
   ]
  },
  {
   "cell_type": "code",
   "execution_count": 66,
   "id": "eef55765",
   "metadata": {},
   "outputs": [
    {
     "name": "stdout",
     "output_type": "stream",
     "text": [
      "6.160770901318717\n"
     ]
    },
    {
     "data": {
      "text/plain": [
       "0.19735095238658684"
      ]
     },
     "execution_count": 66,
     "metadata": {},
     "output_type": "execute_result"
    }
   ],
   "source": [
    "from sklearn.ensemble import GradientBoostingRegressor\n",
    "\n",
    "model = GradientBoostingRegressor()\n",
    "\n",
    "model.fit(X_train,y_train)\n",
    "\n",
    "model_rms_15g = (mean_squared_error(y_test,model.predict(X_test))**0.5)\n",
    "print(model_rms_15g)\n",
    "\n",
    "model_score_15g = (r2_score(y_test,model.predict(X_test)))\n",
    "model_score_15g"
   ]
  },
  {
   "cell_type": "markdown",
   "id": "d3517e31",
   "metadata": {},
   "source": [
    "In the above cell, we have used GradientBoostingRegressor to increase model's efficiency. So we created our Regressor model,fitted model with training datasets, used evaluation metrics root_mean_squared_error and r2score to check the effieciency of trained model.And we ended up getting mean_squared_error--6.16 and r2score--0.19732 which can also be respresented as 19.7% which is approximately equal to baseline score."
   ]
  },
  {
   "cell_type": "code",
   "execution_count": 67,
   "id": "78d841ea",
   "metadata": {},
   "outputs": [
    {
     "name": "stdout",
     "output_type": "stream",
     "text": [
      "6.201317406952257\n"
     ]
    },
    {
     "data": {
      "text/plain": [
       "0.18675107479440556"
      ]
     },
     "execution_count": 67,
     "metadata": {},
     "output_type": "execute_result"
    }
   ],
   "source": [
    "from sklearn.ensemble import GradientBoostingRegressor\n",
    "\n",
    "model = GradientBoostingRegressor()\n",
    "\n",
    "model.fit(X_25l_train,y_train)\n",
    "\n",
    "model_rms_25g = (mean_squared_error(y_test,model.predict(X_25l_test))**0.5)\n",
    "print(model_rms_25g)\n",
    "\n",
    "model_score_25g = (r2_score(y_test,model.predict(X_25l_test)))\n",
    "model_score_25g"
   ]
  },
  {
   "cell_type": "markdown",
   "id": "e45525b6",
   "metadata": {},
   "source": [
    "In the above cell, we have used SequentialFeatureSelector and did feature engineering by selecting top 25 features to increase model's efficiency. So after getting features, we created our Regressor model,fitted model with training datasets that contains 25 features, used evaluation metrics root_mean_squared_error and r2score to check the effieciency of trained model.And we ended up getting mean_squared_error--6.20 and r2score--0.18675 which can also be respresented as 18.7% which is approximately equal to baseline score."
   ]
  },
  {
   "cell_type": "code",
   "execution_count": 68,
   "id": "652d5339",
   "metadata": {},
   "outputs": [],
   "source": [
    "# from sklearn.preprocessing import StandardScaler\n",
    "# from sklearn.svm import SVR\n",
    "\n",
    "\n",
    "# sc_X = StandardScaler()\n",
    "# sc_y = StandardScaler()\n",
    "# y_train= y_train.values.reshape(-1, 1)\n",
    "\n",
    "# X_train = sc_X.fit_transform(X_train)\n",
    "# y_train = sc_y.fit_transform(y_train)\n",
    "\n",
    "# regressor = SVR(kernel = 'rbf')\n",
    "# regressor.fit(X_train, y_train)\n",
    "\n",
    "# reg_rms_svr = (mean_squared_error(y_test,regressor.predict(X_test))**0.5)\n",
    "# print(reg_rms_svr)\n",
    "\n",
    "# reg_rms_svr = (r2_score(y_test,regressor.predict(X_test)))\n",
    "# reg_rms_svr"
   ]
  },
  {
   "cell_type": "code",
   "execution_count": 69,
   "id": "af063edc",
   "metadata": {},
   "outputs": [],
   "source": [
    "# from sklearn.preprocessing import StandardScaler\n",
    "# from sklearn.svm import SVR\n",
    "\n",
    "\n",
    "# sc_X = StandardScaler()\n",
    "# sc_y = StandardScaler()\n",
    "# y_train= y_train.reshape(-1, 1)\n",
    "\n",
    "# X_train = sc_X.fit_transform(X_train)\n",
    "# y_train = sc_y.fit_transform(y_train)\n",
    "\n",
    "# regressor = SVR(kernel = 'linear')\n",
    "# regressor.fit(X_train, y_train)\n",
    "\n",
    "# reg_rms_svr = (mean_squared_error(y_test,regressor.predict(X_test))**0.5)\n",
    "# print(reg_rms_svr)\n",
    "\n",
    "# reg_rms_svr = (r2_score(y_test,regressor.predict(X_test)))\n",
    "# reg_rms_svr"
   ]
  },
  {
   "cell_type": "code",
   "execution_count": 70,
   "id": "16bf719d",
   "metadata": {},
   "outputs": [],
   "source": [
    "# from sklearn.preprocessing import StandardScaler\n",
    "# from sklearn.svm import SVR\n",
    "\n",
    "\n",
    "# sc_X = StandardScaler()\n",
    "# sc_y = StandardScaler()\n",
    "# y_train= y_train.reshape(-1, 1)\n",
    "\n",
    "# X_train = sc_X.fit_transform(X_train)\n",
    "# y_train = sc_y.fit_transform(y_train)\n",
    "\n",
    "# regressor = SVR(kernel = 'poly')\n",
    "# regressor.fit(X_train, y_train)\n",
    "\n",
    "# reg_rms_svr = (mean_squared_error(y_test,regressor.predict(X_test))**0.5)\n",
    "# print(\"rms:\",reg_rms_svr)\n",
    "\n",
    "# reg_rms_svr = (r2_score(y_test,regressor.predict(X_test)))\n",
    "# reg_rms_svr"
   ]
  },
  {
   "cell_type": "code",
   "execution_count": 71,
   "id": "ec01ece0",
   "metadata": {},
   "outputs": [],
   "source": [
    "# from sklearn.ensemble import GradientBoostingRegressor\n",
    "\n",
    "# model = GradientBoostingRegressor()\n",
    "\n",
    "# sc_X = StandardScaler()\n",
    "# # sc_y = StandardScaler()\n",
    "# y_train= y_train.reshape(-1, 1)\n",
    "\n",
    "# X_train = sc_X.fit_transform(X_train)\n",
    "# X_test = sc_X.transform(X_test)\n",
    "\n",
    "# # y_train = sc_y.fit_transform(y_train)\n",
    "# # y_test = sc_y.transform(y_test)\n",
    "\n",
    "# model.fit(X_train,y_train)\n",
    "\n",
    "# model_rms_15g = (mean_squared_error(y_test,model.predict(X_test))**0.5)\n",
    "# print(model_rms_15g)\n",
    "\n",
    "# model_rs_15g = (r2_score(y_test,model.predict(X_test)))\n",
    "# model_rs_15g"
   ]
  },
  {
   "cell_type": "code",
   "execution_count": 72,
   "id": "6b625ffc",
   "metadata": {},
   "outputs": [
    {
     "data": {
      "text/plain": [
       "20.85857043719639"
      ]
     },
     "execution_count": 72,
     "metadata": {},
     "output_type": "execute_result"
    }
   ],
   "source": [
    "y.mean()"
   ]
  },
  {
   "cell_type": "markdown",
   "id": "de60a860",
   "metadata": {},
   "source": []
  },
  {
   "cell_type": "code",
   "execution_count": 73,
   "id": "6d646357",
   "metadata": {},
   "outputs": [],
   "source": [
    "# from sklearn.ensemble import GradientBoostingRegressor\n",
    "\n",
    "# model = GradientBoostingRegressor()\n",
    "\n",
    "# sc_X = StandardScaler()\n",
    "# # sc_y = StandardScaler()\n",
    "# y_train= y_train.values.reshape(-1, 1)\n",
    "\n",
    "# X_trans_train = sc_X.fit_transform(X_train)\n",
    "# X_trans_test = sc_X.transform(X_test)\n",
    "\n",
    "# # y_train = sc_y.fit_transform(y_train)\n",
    "# # y_test = sc_y.transform(y_test)\n",
    "\n",
    "# model.fit(X_trans_train,y_train)\n",
    "\n",
    "# model_rms_15g = (mean_squared_error(y_test,model.predict(X_trans_test))**0.5)\n",
    "# print(model_rms_15g)\n",
    "\n",
    "# model_rs_15g = (r2_score(y_test,model.predict(X_trans_test)))\n",
    "# model_rs_15g"
   ]
  },
  {
   "cell_type": "code",
   "execution_count": 74,
   "id": "40fe978b",
   "metadata": {},
   "outputs": [],
   "source": [
    "# from sklearn.metrics import mean_squared_error\n",
    "\n",
    "# lr = LinearRegression()\n",
    "\n",
    "# sc_X = StandardScaler()\n",
    "# y_train= y_train.reshape(-1, 1)\n",
    "\n",
    "# X_trans_train = sc_X.fit_transform(X_train)\n",
    "# X_trans_test = sc_X.transform(X_test)\n",
    "\n",
    "# lr.fit(X_train,y_train)\n",
    "\n",
    "# lr_rms = (mean_squared_error(y_test,lr.predict(X_test))**0.5)\n",
    "# print(lr_rms)\n",
    "\n",
    "# lr_score = (r2_score(y_test,lr.predict(X_test)))\n",
    "# lr_score"
   ]
  },
  {
   "cell_type": "markdown",
   "id": "9f6be6f6",
   "metadata": {},
   "source": [
    "I have taken some use cases to predict taxi layout delay with each model. "
   ]
  },
  {
   "cell_type": "code",
   "execution_count": 75,
   "id": "7e631fd5",
   "metadata": {},
   "outputs": [
    {
     "data": {
      "text/plain": [
       "18.822567348452957"
      ]
     },
     "execution_count": 75,
     "metadata": {},
     "output_type": "execute_result"
    }
   ],
   "source": [
    "rr = rr.fit(X_15r_train,y_train)\n",
    "\n",
    "y_pred = rr.predict(np.array([[-7,333,48,34,38,9,17,0,1,1,0,0,0,0,0]]))[0]\n",
    "y_pred"
   ]
  },
  {
   "cell_type": "markdown",
   "id": "39b1fb7b",
   "metadata": {},
   "source": [
    "Taxi-layout delay using RideRegression is approximately 19 where original is 15. "
   ]
  },
  {
   "cell_type": "code",
   "execution_count": 76,
   "id": "86209457",
   "metadata": {},
   "outputs": [
    {
     "data": {
      "text/plain": [
       "array([21.15286457])"
      ]
     },
     "execution_count": 76,
     "metadata": {},
     "output_type": "execute_result"
    }
   ],
   "source": [
    "use_case = [-7,333,48,34,38,9,17,0,1,1,0,0,0,0,0]\n",
    "\n",
    "Lr.fit(X_15f_train,y_train)\n",
    "\n",
    "y_pred = Lr.predict([use_case])\n",
    "y_pred"
   ]
  },
  {
   "cell_type": "markdown",
   "id": "f7d34b40",
   "metadata": {},
   "source": [
    "Taxi-layout delay using LassoRegression is approximately 21 where original is 15. "
   ]
  },
  {
   "cell_type": "code",
   "execution_count": 77,
   "id": "0abedca9",
   "metadata": {},
   "outputs": [
    {
     "data": {
      "text/plain": [
       "16.442396877410022"
      ]
     },
     "execution_count": 77,
     "metadata": {},
     "output_type": "execute_result"
    }
   ],
   "source": [
    "lr = lr.fit(X_15l_train,y_train)\n",
    "\n",
    "y_pred = lr.predict(np.array([[-7,333,48,34,38,9,17,0,1,1,0,0,0,0,0]]))[0]\n",
    "y_pred"
   ]
  },
  {
   "cell_type": "markdown",
   "id": "8262250f",
   "metadata": {},
   "source": [
    "Taxi-layout delay using LinearRegression is approximately 16.4 where original is 15. "
   ]
  },
  {
   "cell_type": "code",
   "execution_count": 85,
   "id": "a4594d48",
   "metadata": {},
   "outputs": [
    {
     "data": {
      "text/html": [
       "<div>\n",
       "<style scoped>\n",
       "    .dataframe tbody tr th:only-of-type {\n",
       "        vertical-align: middle;\n",
       "    }\n",
       "\n",
       "    .dataframe tbody tr th {\n",
       "        vertical-align: top;\n",
       "    }\n",
       "\n",
       "    .dataframe thead th {\n",
       "        text-align: right;\n",
       "    }\n",
       "</style>\n",
       "<table border=\"1\" class=\"dataframe\">\n",
       "  <thead>\n",
       "    <tr style=\"text-align: right;\">\n",
       "      <th></th>\n",
       "      <th>MONTH</th>\n",
       "      <th>DAY_OF_MONTH</th>\n",
       "      <th>DAY_OF_WEEK</th>\n",
       "      <th>DEP_DELAY</th>\n",
       "      <th>CRS_ELAPSED_TIME</th>\n",
       "      <th>DISTANCE</th>\n",
       "      <th>CRS_DEP_M</th>\n",
       "      <th>DEP_TIME_M</th>\n",
       "      <th>CRS_ARR_M</th>\n",
       "      <th>Temperature</th>\n",
       "      <th>...</th>\n",
       "      <th>Condition_Light Snow / Windy</th>\n",
       "      <th>Condition_Mostly Cloudy</th>\n",
       "      <th>Condition_Mostly Cloudy / Windy</th>\n",
       "      <th>Condition_Partly Cloudy</th>\n",
       "      <th>Condition_Partly Cloudy / Windy</th>\n",
       "      <th>Condition_Rain</th>\n",
       "      <th>Condition_Rain / Windy</th>\n",
       "      <th>Condition_Snow</th>\n",
       "      <th>Condition_Wintry Mix</th>\n",
       "      <th>Condition_Wintry Mix / Windy</th>\n",
       "    </tr>\n",
       "  </thead>\n",
       "  <tbody>\n",
       "    <tr>\n",
       "      <th>1</th>\n",
       "      <td>11</td>\n",
       "      <td>1</td>\n",
       "      <td>5</td>\n",
       "      <td>-7</td>\n",
       "      <td>371</td>\n",
       "      <td>2475</td>\n",
       "      <td>340</td>\n",
       "      <td>333</td>\n",
       "      <td>531</td>\n",
       "      <td>48</td>\n",
       "      <td>...</td>\n",
       "      <td>0</td>\n",
       "      <td>0</td>\n",
       "      <td>0</td>\n",
       "      <td>0</td>\n",
       "      <td>0</td>\n",
       "      <td>0</td>\n",
       "      <td>0</td>\n",
       "      <td>0</td>\n",
       "      <td>0</td>\n",
       "      <td>0</td>\n",
       "    </tr>\n",
       "  </tbody>\n",
       "</table>\n",
       "<p>1 rows × 51 columns</p>\n",
       "</div>"
      ],
      "text/plain": [
       "   MONTH  DAY_OF_MONTH  DAY_OF_WEEK  DEP_DELAY  CRS_ELAPSED_TIME  DISTANCE  \\\n",
       "1     11             1            5         -7               371      2475   \n",
       "\n",
       "   CRS_DEP_M  DEP_TIME_M  CRS_ARR_M  Temperature  ...  \\\n",
       "1        340         333        531           48  ...   \n",
       "\n",
       "   Condition_Light Snow / Windy  Condition_Mostly Cloudy  \\\n",
       "1                             0                        0   \n",
       "\n",
       "   Condition_Mostly Cloudy / Windy  Condition_Partly Cloudy  \\\n",
       "1                                0                        0   \n",
       "\n",
       "   Condition_Partly Cloudy / Windy  Condition_Rain  Condition_Rain / Windy  \\\n",
       "1                                0               0                       0   \n",
       "\n",
       "   Condition_Snow  Condition_Wintry Mix  Condition_Wintry Mix / Windy  \n",
       "1               0                     0                             0  \n",
       "\n",
       "[1 rows x 51 columns]"
      ]
     },
     "execution_count": 85,
     "metadata": {},
     "output_type": "execute_result"
    }
   ],
   "source": [
    "X_new.iloc[1:2]"
   ]
  },
  {
   "cell_type": "code",
   "execution_count": 78,
   "id": "d594022f",
   "metadata": {},
   "outputs": [],
   "source": [
    "use_case1 = [11,1,5,-7,371,2475,340,333,531,48]\n",
    "model.fit(X_train,y_train)\n",
    "\n",
    "\n",
    "y_pred = model.predict([use_case])\n",
    "y_pred"
   ]
  },
  {
   "cell_type": "code",
   "execution_count": 79,
   "id": "9b5585bc",
   "metadata": {},
   "outputs": [
    {
     "data": {
      "text/plain": [
       "[<matplotlib.lines.Line2D at 0x13f95a51e88>]"
      ]
     },
     "execution_count": 79,
     "metadata": {},
     "output_type": "execute_result"
    },
    {
     "data": {
      "image/png": "[encoded data removed]",
      "text/plain": [
       "<Figure size 432x288 with 1 Axes>"
      ]
     },
     "metadata": {
      "needs_background": "light"
     },
     "output_type": "display_data"
    }
   ],
   "source": [
    "\n",
    "models=['LinearRegression','RidgeRegression','LassoRegression','GradientBoosting']\n",
    "Average_score=[10.900,10.902,6.807,18.822]\n",
    "plt.title('Average score of regression models')\n",
    "plt.xlabel('Regression Models')\n",
    "plt.ylabel('Average score(%)')\n",
    "plt.plot(models,Average_score)"
   ]
  },
  {
   "cell_type": "markdown",
   "id": "9b5ec1f3",
   "metadata": {},
   "source": [
    "Though linear and ridge regressions are almost having similar accuracy, linear regression gave approximately accurate score when predicting delay by taking some examples. The most ideal result would be an RMSE value of zero and R-squared value of 1, but that's almost impossible in real economic datasets"
   ]
  },
  {
   "cell_type": "code",
   "execution_count": null,
   "id": "69e60a29",
   "metadata": {},
   "outputs": [],
   "source": []
  }
 ],
 "metadata": {
  "kernelspec": {
   "display_name": "Python 3",
   "language": "python",
   "name": "python3"
  },
  "language_info": {
   "codemirror_mode": {
    "name": "ipython",
    "version": 3
   },
   "file_extension": ".py",
   "mimetype": "text/x-python",
   "name": "python",
   "nbconvert_exporter": "python",
   "pygments_lexer": "ipython3",
   "version": "3.7.9"
  }
 },
 "nbformat": 4,
 "nbformat_minor": 5
}
